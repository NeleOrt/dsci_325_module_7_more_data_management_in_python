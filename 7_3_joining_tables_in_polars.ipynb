{
 "cells": [
  {
   "cell_type": "markdown",
   "id": "2d129329",
   "metadata": {},
   "source": [
    "## Colab Prep\n",
    "\n",
    "Execute the following code cells to whenever you open/restart the notebook in Google Colab."
   ]
  },
  {
   "cell_type": "code",
   "execution_count": 1,
   "id": "7b375479",
   "metadata": {},
   "outputs": [
    {
     "name": "stdout",
     "output_type": "stream",
     "text": [
      "Requirement already satisfied: polars[all] in c:\\users\\su6123ck\\appdata\\local\\anaconda3\\envs\\polars\\lib\\site-packages (1.6.0)\n",
      "Requirement already satisfied: numpy>=1.16.0 in c:\\users\\su6123ck\\appdata\\local\\anaconda3\\envs\\polars\\lib\\site-packages (from polars[all]) (2.1.0)\n",
      "Requirement already satisfied: pandas in c:\\users\\su6123ck\\appdata\\local\\anaconda3\\envs\\polars\\lib\\site-packages (from polars[all]) (2.2.2)\n",
      "Requirement already satisfied: pyarrow>=7.0.0 in c:\\users\\su6123ck\\appdata\\local\\anaconda3\\envs\\polars\\lib\\site-packages (from polars[all]) (17.0.0)\n",
      "Requirement already satisfied: pydantic in c:\\users\\su6123ck\\appdata\\local\\anaconda3\\envs\\polars\\lib\\site-packages (from polars[all]) (2.8.2)\n",
      "Requirement already satisfied: nest-asyncio in c:\\users\\su6123ck\\appdata\\local\\anaconda3\\envs\\polars\\lib\\site-packages (from polars[all]) (1.6.0)\n",
      "Requirement already satisfied: fsspec in c:\\users\\su6123ck\\appdata\\local\\anaconda3\\envs\\polars\\lib\\site-packages (from polars[all]) (2024.6.1)\n",
      "Requirement already satisfied: deltalake>=0.15.0 in c:\\users\\su6123ck\\appdata\\local\\anaconda3\\envs\\polars\\lib\\site-packages (from polars[all]) (0.19.1)\n",
      "Requirement already satisfied: pyiceberg>=0.5.0 in c:\\users\\su6123ck\\appdata\\local\\anaconda3\\envs\\polars\\lib\\site-packages (from polars[all]) (0.7.1)\n",
      "Requirement already satisfied: gevent in c:\\users\\su6123ck\\appdata\\local\\anaconda3\\envs\\polars\\lib\\site-packages (from polars[all]) (24.2.1)\n",
      "Requirement already satisfied: cloudpickle in c:\\users\\su6123ck\\appdata\\local\\anaconda3\\envs\\polars\\lib\\site-packages (from polars[all]) (3.0.0)\n",
      "Requirement already satisfied: matplotlib in c:\\users\\su6123ck\\appdata\\local\\anaconda3\\envs\\polars\\lib\\site-packages (from polars[all]) (3.9.2)\n",
      "Requirement already satisfied: altair>=5.4.0 in c:\\users\\su6123ck\\appdata\\local\\anaconda3\\envs\\polars\\lib\\site-packages (from polars[all]) (5.4.1)\n",
      "Requirement already satisfied: great-tables>=0.8.0 in c:\\users\\su6123ck\\appdata\\local\\anaconda3\\envs\\polars\\lib\\site-packages (from polars[all]) (0.11.0)\n",
      "Requirement already satisfied: tzdata in c:\\users\\su6123ck\\appdata\\local\\anaconda3\\envs\\polars\\lib\\site-packages (from polars[all]) (2024.1)\n",
      "Requirement already satisfied: jinja2 in c:\\users\\su6123ck\\appdata\\local\\anaconda3\\envs\\polars\\lib\\site-packages (from altair>=5.4.0->polars[all]) (3.1.4)\n",
      "Requirement already satisfied: jsonschema>=3.0 in c:\\users\\su6123ck\\appdata\\local\\anaconda3\\envs\\polars\\lib\\site-packages (from altair>=5.4.0->polars[all]) (4.23.0)\n",
      "Requirement already satisfied: narwhals>=1.5.2 in c:\\users\\su6123ck\\appdata\\local\\anaconda3\\envs\\polars\\lib\\site-packages (from altair>=5.4.0->polars[all]) (1.6.1)\n",
      "Requirement already satisfied: packaging in c:\\users\\su6123ck\\appdata\\local\\anaconda3\\envs\\polars\\lib\\site-packages (from altair>=5.4.0->polars[all]) (24.1)\n",
      "Requirement already satisfied: typing-extensions>=4.10.0 in c:\\users\\su6123ck\\appdata\\local\\anaconda3\\envs\\polars\\lib\\site-packages (from altair>=5.4.0->polars[all]) (4.12.2)\n",
      "Requirement already satisfied: commonmark>=0.9.1 in c:\\users\\su6123ck\\appdata\\local\\anaconda3\\envs\\polars\\lib\\site-packages (from great-tables>=0.8.0->polars[all]) (0.9.1)\n",
      "Requirement already satisfied: htmltools>=0.4.1 in c:\\users\\su6123ck\\appdata\\local\\anaconda3\\envs\\polars\\lib\\site-packages (from great-tables>=0.8.0->polars[all]) (0.5.3)\n",
      "Requirement already satisfied: importlib-metadata in c:\\users\\su6123ck\\appdata\\local\\anaconda3\\envs\\polars\\lib\\site-packages (from great-tables>=0.8.0->polars[all]) (8.4.0)\n",
      "Requirement already satisfied: Babel>=2.13.1 in c:\\users\\su6123ck\\appdata\\local\\anaconda3\\envs\\polars\\lib\\site-packages (from great-tables>=0.8.0->polars[all]) (2.14.0)\n",
      "Requirement already satisfied: importlib-resources in c:\\users\\su6123ck\\appdata\\local\\anaconda3\\envs\\polars\\lib\\site-packages (from great-tables>=0.8.0->polars[all]) (6.4.4)\n",
      "Requirement already satisfied: click<9.0.0,>=7.1.1 in c:\\users\\su6123ck\\appdata\\local\\anaconda3\\envs\\polars\\lib\\site-packages (from pyiceberg>=0.5.0->polars[all]) (8.1.7)\n",
      "Requirement already satisfied: mmh3<5.0.0,>=4.0.0 in c:\\users\\su6123ck\\appdata\\local\\anaconda3\\envs\\polars\\lib\\site-packages (from pyiceberg>=0.5.0->polars[all]) (4.1.0)\n",
      "Requirement already satisfied: pyparsing<4.0.0,>=3.1.0 in c:\\users\\su6123ck\\appdata\\local\\anaconda3\\envs\\polars\\lib\\site-packages (from pyiceberg>=0.5.0->polars[all]) (3.1.4)\n",
      "Requirement already satisfied: requests<3.0.0,>=2.20.0 in c:\\users\\su6123ck\\appdata\\local\\anaconda3\\envs\\polars\\lib\\site-packages (from pyiceberg>=0.5.0->polars[all]) (2.32.3)\n",
      "Requirement already satisfied: rich<14.0.0,>=10.11.0 in c:\\users\\su6123ck\\appdata\\local\\anaconda3\\envs\\polars\\lib\\site-packages (from pyiceberg>=0.5.0->polars[all]) (13.8.0)\n",
      "Requirement already satisfied: sortedcontainers==2.4.0 in c:\\users\\su6123ck\\appdata\\local\\anaconda3\\envs\\polars\\lib\\site-packages (from pyiceberg>=0.5.0->polars[all]) (2.4.0)\n",
      "Requirement already satisfied: strictyaml<2.0.0,>=1.7.0 in c:\\users\\su6123ck\\appdata\\local\\anaconda3\\envs\\polars\\lib\\site-packages (from pyiceberg>=0.5.0->polars[all]) (1.7.3)\n",
      "Requirement already satisfied: tenacity<9.0.0,>=8.2.3 in c:\\users\\su6123ck\\appdata\\local\\anaconda3\\envs\\polars\\lib\\site-packages (from pyiceberg>=0.5.0->polars[all]) (8.5.0)\n",
      "Requirement already satisfied: annotated-types>=0.4.0 in c:\\users\\su6123ck\\appdata\\local\\anaconda3\\envs\\polars\\lib\\site-packages (from pydantic->polars[all]) (0.7.0)\n",
      "Requirement already satisfied: pydantic-core==2.20.1 in c:\\users\\su6123ck\\appdata\\local\\anaconda3\\envs\\polars\\lib\\site-packages (from pydantic->polars[all]) (2.20.1)\n",
      "Requirement already satisfied: zope.event in c:\\users\\su6123ck\\appdata\\local\\anaconda3\\envs\\polars\\lib\\site-packages (from gevent->polars[all]) (5.0)\n",
      "Requirement already satisfied: zope.interface in c:\\users\\su6123ck\\appdata\\local\\anaconda3\\envs\\polars\\lib\\site-packages (from gevent->polars[all]) (7.0.3)\n",
      "Requirement already satisfied: greenlet>=3.0rc3 in c:\\users\\su6123ck\\appdata\\local\\anaconda3\\envs\\polars\\lib\\site-packages (from gevent->polars[all]) (3.0.3)\n",
      "Requirement already satisfied: cffi>=1.12.2 in c:\\users\\su6123ck\\appdata\\local\\anaconda3\\envs\\polars\\lib\\site-packages (from gevent->polars[all]) (1.17.0)\n",
      "Requirement already satisfied: contourpy>=1.0.1 in c:\\users\\su6123ck\\appdata\\local\\anaconda3\\envs\\polars\\lib\\site-packages (from matplotlib->polars[all]) (1.3.0)\n",
      "Requirement already satisfied: cycler>=0.10 in c:\\users\\su6123ck\\appdata\\local\\anaconda3\\envs\\polars\\lib\\site-packages (from matplotlib->polars[all]) (0.12.1)\n",
      "Requirement already satisfied: fonttools>=4.22.0 in c:\\users\\su6123ck\\appdata\\local\\anaconda3\\envs\\polars\\lib\\site-packages (from matplotlib->polars[all]) (4.53.1)\n",
      "Requirement already satisfied: kiwisolver>=1.3.1 in c:\\users\\su6123ck\\appdata\\local\\anaconda3\\envs\\polars\\lib\\site-packages (from matplotlib->polars[all]) (1.4.5)\n",
      "Requirement already satisfied: pillow>=8 in c:\\users\\su6123ck\\appdata\\local\\anaconda3\\envs\\polars\\lib\\site-packages (from matplotlib->polars[all]) (10.4.0)\n",
      "Requirement already satisfied: python-dateutil>=2.7 in c:\\users\\su6123ck\\appdata\\local\\anaconda3\\envs\\polars\\lib\\site-packages (from matplotlib->polars[all]) (2.9.0)\n",
      "Requirement already satisfied: pytz>=2020.1 in c:\\users\\su6123ck\\appdata\\local\\anaconda3\\envs\\polars\\lib\\site-packages (from pandas->polars[all]) (2024.1)\n",
      "Requirement already satisfied: adbc-driver-manager[dbapi] in c:\\users\\su6123ck\\appdata\\local\\anaconda3\\envs\\polars\\lib\\site-packages (from polars[all]) (1.1.0)\n",
      "Requirement already satisfied: adbc-driver-sqlite[dbapi] in c:\\users\\su6123ck\\appdata\\local\\anaconda3\\envs\\polars\\lib\\site-packages (from polars[all]) (1.1.0)\n",
      "Requirement already satisfied: connectorx>=0.3.2 in c:\\users\\su6123ck\\appdata\\local\\anaconda3\\envs\\polars\\lib\\site-packages (from polars[all]) (0.3.3)\n",
      "Requirement already satisfied: sqlalchemy in c:\\users\\su6123ck\\appdata\\local\\anaconda3\\envs\\polars\\lib\\site-packages (from polars[all]) (2.0.32)\n",
      "Requirement already satisfied: fastexcel>=0.9 in c:\\users\\su6123ck\\appdata\\local\\anaconda3\\envs\\polars\\lib\\site-packages (from polars[all]) (0.11.6)\n",
      "Requirement already satisfied: openpyxl>=3.0.0 in c:\\users\\su6123ck\\appdata\\local\\anaconda3\\envs\\polars\\lib\\site-packages (from polars[all]) (3.1.5)\n",
      "Requirement already satisfied: xlsx2csv>=0.8.0 in c:\\users\\su6123ck\\appdata\\local\\anaconda3\\envs\\polars\\lib\\site-packages (from polars[all]) (0.8.3)\n",
      "Requirement already satisfied: xlsxwriter in c:\\users\\su6123ck\\appdata\\local\\anaconda3\\envs\\polars\\lib\\site-packages (from polars[all]) (3.2.0)\n",
      "Requirement already satisfied: pycparser in c:\\users\\su6123ck\\appdata\\local\\anaconda3\\envs\\polars\\lib\\site-packages (from cffi>=1.12.2->gevent->polars[all]) (2.22)\n",
      "Requirement already satisfied: colorama in c:\\users\\su6123ck\\appdata\\local\\anaconda3\\envs\\polars\\lib\\site-packages (from click<9.0.0,>=7.1.1->pyiceberg>=0.5.0->polars[all]) (0.4.6)\n",
      "Requirement already satisfied: attrs>=22.2.0 in c:\\users\\su6123ck\\appdata\\local\\anaconda3\\envs\\polars\\lib\\site-packages (from jsonschema>=3.0->altair>=5.4.0->polars[all]) (24.2.0)\n",
      "Requirement already satisfied: jsonschema-specifications>=2023.03.6 in c:\\users\\su6123ck\\appdata\\local\\anaconda3\\envs\\polars\\lib\\site-packages (from jsonschema>=3.0->altair>=5.4.0->polars[all]) (2023.12.1)\n",
      "Requirement already satisfied: referencing>=0.28.4 in c:\\users\\su6123ck\\appdata\\local\\anaconda3\\envs\\polars\\lib\\site-packages (from jsonschema>=3.0->altair>=5.4.0->polars[all]) (0.35.1)\n",
      "Requirement already satisfied: rpds-py>=0.7.1 in c:\\users\\su6123ck\\appdata\\local\\anaconda3\\envs\\polars\\lib\\site-packages (from jsonschema>=3.0->altair>=5.4.0->polars[all]) (0.20.0)\n",
      "Requirement already satisfied: et-xmlfile in c:\\users\\su6123ck\\appdata\\local\\anaconda3\\envs\\polars\\lib\\site-packages (from openpyxl>=3.0.0->polars[all]) (1.1.0)\n",
      "Requirement already satisfied: six>=1.5 in c:\\users\\su6123ck\\appdata\\local\\anaconda3\\envs\\polars\\lib\\site-packages (from python-dateutil>=2.7->matplotlib->polars[all]) (1.16.0)\n",
      "Requirement already satisfied: charset-normalizer<4,>=2 in c:\\users\\su6123ck\\appdata\\local\\anaconda3\\envs\\polars\\lib\\site-packages (from requests<3.0.0,>=2.20.0->pyiceberg>=0.5.0->polars[all]) (3.3.2)\n",
      "Requirement already satisfied: idna<4,>=2.5 in c:\\users\\su6123ck\\appdata\\local\\anaconda3\\envs\\polars\\lib\\site-packages (from requests<3.0.0,>=2.20.0->pyiceberg>=0.5.0->polars[all]) (3.8)\n",
      "Requirement already satisfied: urllib3<3,>=1.21.1 in c:\\users\\su6123ck\\appdata\\local\\anaconda3\\envs\\polars\\lib\\site-packages (from requests<3.0.0,>=2.20.0->pyiceberg>=0.5.0->polars[all]) (2.2.2)\n",
      "Requirement already satisfied: certifi>=2017.4.17 in c:\\users\\su6123ck\\appdata\\local\\anaconda3\\envs\\polars\\lib\\site-packages (from requests<3.0.0,>=2.20.0->pyiceberg>=0.5.0->polars[all]) (2024.7.4)\n",
      "Requirement already satisfied: markdown-it-py>=2.2.0 in c:\\users\\su6123ck\\appdata\\local\\anaconda3\\envs\\polars\\lib\\site-packages (from rich<14.0.0,>=10.11.0->pyiceberg>=0.5.0->polars[all]) (3.0.0)\n",
      "Requirement already satisfied: pygments<3.0.0,>=2.13.0 in c:\\users\\su6123ck\\appdata\\local\\anaconda3\\envs\\polars\\lib\\site-packages (from rich<14.0.0,>=10.11.0->pyiceberg>=0.5.0->polars[all]) (2.18.0)\n",
      "Requirement already satisfied: zipp>=0.5 in c:\\users\\su6123ck\\appdata\\local\\anaconda3\\envs\\polars\\lib\\site-packages (from importlib-metadata->great-tables>=0.8.0->polars[all]) (3.20.1)\n",
      "Requirement already satisfied: MarkupSafe>=2.0 in c:\\users\\su6123ck\\appdata\\local\\anaconda3\\envs\\polars\\lib\\site-packages (from jinja2->altair>=5.4.0->polars[all]) (2.1.5)\n",
      "Requirement already satisfied: setuptools in c:\\users\\su6123ck\\appdata\\local\\anaconda3\\envs\\polars\\lib\\site-packages (from zope.event->gevent->polars[all]) (72.2.0)\n",
      "Requirement already satisfied: mdurl~=0.1 in c:\\users\\su6123ck\\appdata\\local\\anaconda3\\envs\\polars\\lib\\site-packages (from markdown-it-py>=2.2.0->rich<14.0.0,>=10.11.0->pyiceberg>=0.5.0->polars[all]) (0.1.2)\n"
     ]
    }
   ],
   "source": [
    "!pip install \"polars[all]\""
   ]
  },
  {
   "cell_type": "code",
   "execution_count": 2,
   "id": "d188a811",
   "metadata": {
    "scrolled": true
   },
   "outputs": [
    {
     "name": "stderr",
     "output_type": "stream",
     "text": [
      "'wget' is not recognized as an internal or external command,\n",
      "operable program or batch file.\n"
     ]
    }
   ],
   "source": [
    "!wget https://github.com/WSU-DataScience/dsci_325_module_7_more_data_management_in_python/raw/main/sample_data.zip"
   ]
  },
  {
   "cell_type": "code",
   "execution_count": 3,
   "id": "311d5379",
   "metadata": {},
   "outputs": [
    {
     "name": "stderr",
     "output_type": "stream",
     "text": [
      "'unzip' is not recognized as an internal or external command,\n",
      "operable program or batch file.\n"
     ]
    }
   ],
   "source": [
    "!unzip ./sample_data.zip"
   ]
  },
  {
   "cell_type": "code",
   "execution_count": 4,
   "id": "6e90c0b4",
   "metadata": {},
   "outputs": [
    {
     "name": "stdout",
     "output_type": "stream",
     "text": [
      "Requirement already satisfied: more_polars in c:\\users\\su6123ck\\appdata\\local\\anaconda3\\envs\\polars\\lib\\site-packages (0.3.0)\n",
      "Requirement already satisfied: composable>=0.5.4 in c:\\users\\su6123ck\\appdata\\local\\anaconda3\\envs\\polars\\lib\\site-packages (from more_polars) (0.5.4)\n",
      "Requirement already satisfied: polars>=0.14.26 in c:\\users\\su6123ck\\appdata\\local\\anaconda3\\envs\\polars\\lib\\site-packages (from more_polars) (1.6.0)\n",
      "Requirement already satisfied: python-forge<19.0,>=18.6 in c:\\users\\su6123ck\\appdata\\local\\anaconda3\\envs\\polars\\lib\\site-packages (from composable>=0.5.4->more_polars) (18.6.0)\n",
      "Requirement already satisfied: toolz<0.12.0,>=0.11.1 in c:\\users\\su6123ck\\appdata\\local\\anaconda3\\envs\\polars\\lib\\site-packages (from composable>=0.5.4->more_polars) (0.11.2)\n"
     ]
    }
   ],
   "source": [
    "!pip install more_polars"
   ]
  },
  {
   "cell_type": "markdown",
   "id": "4860bf4a",
   "metadata": {
    "slideshow": {
     "slide_type": "slide"
    }
   },
   "source": [
    "# Joining Tables with `dfply`"
   ]
  },
  {
   "cell_type": "code",
   "execution_count": 5,
   "id": "1736398e",
   "metadata": {
    "slideshow": {
     "slide_type": "fragment"
    }
   },
   "outputs": [],
   "source": [
    "import polars as pl"
   ]
  },
  {
   "cell_type": "markdown",
   "id": "c22bbb5b",
   "metadata": {
    "slideshow": {
     "slide_type": "slide"
    }
   },
   "source": [
    "## Example\n",
    "\n",
    "The following tables were taken from the Wikipedia page for joins and will provide a small but sufficiently complicated example for introducing joins."
   ]
  },
  {
   "cell_type": "code",
   "execution_count": 6,
   "id": "ede04292",
   "metadata": {
    "slideshow": {
     "slide_type": "fragment"
    }
   },
   "outputs": [
    {
     "data": {
      "text/html": [
       "<div><style>\n",
       ".dataframe > thead > tr,\n",
       ".dataframe > tbody > tr {\n",
       "  text-align: right;\n",
       "  white-space: pre-wrap;\n",
       "}\n",
       "</style>\n",
       "<small>shape: (4, 2)</small><table border=\"1\" class=\"dataframe\"><thead><tr><th>DeptID</th><th>DeptName</th></tr><tr><td>i64</td><td>str</td></tr></thead><tbody><tr><td>31</td><td>&quot;Sales&quot;</td></tr><tr><td>33</td><td>&quot;Engineering&quot;</td></tr><tr><td>34</td><td>&quot;Clerical&quot;</td></tr><tr><td>35</td><td>&quot;Marketing&quot;</td></tr></tbody></table></div>"
      ],
      "text/plain": [
       "shape: (4, 2)\n",
       "┌────────┬─────────────┐\n",
       "│ DeptID ┆ DeptName    │\n",
       "│ ---    ┆ ---         │\n",
       "│ i64    ┆ str         │\n",
       "╞════════╪═════════════╡\n",
       "│ 31     ┆ Sales       │\n",
       "│ 33     ┆ Engineering │\n",
       "│ 34     ┆ Clerical    │\n",
       "│ 35     ┆ Marketing   │\n",
       "└────────┴─────────────┘"
      ]
     },
     "execution_count": 6,
     "metadata": {},
     "output_type": "execute_result"
    }
   ],
   "source": [
    "dept = pl.read_csv(\"./sample_data/department.csv\")\n",
    "dept"
   ]
  },
  {
   "cell_type": "code",
   "execution_count": 7,
   "id": "695cf9ec",
   "metadata": {
    "slideshow": {
     "slide_type": "slide"
    }
   },
   "outputs": [
    {
     "data": {
      "text/html": [
       "<div><style>\n",
       ".dataframe > thead > tr,\n",
       ".dataframe > tbody > tr {\n",
       "  text-align: right;\n",
       "  white-space: pre-wrap;\n",
       "}\n",
       "</style>\n",
       "<small>shape: (6, 3)</small><table border=\"1\" class=\"dataframe\"><thead><tr><th>LastName</th><th>EmployeeID</th><th>DeptID</th></tr><tr><td>str</td><td>i64</td><td>i64</td></tr></thead><tbody><tr><td>&quot;Rafferty&quot;</td><td>102</td><td>31</td></tr><tr><td>&quot;Jones&quot;</td><td>105</td><td>33</td></tr><tr><td>&quot;Heisenberg&quot;</td><td>106</td><td>33</td></tr><tr><td>&quot;Robinson&quot;</td><td>108</td><td>34</td></tr><tr><td>&quot;Smith&quot;</td><td>110</td><td>34</td></tr><tr><td>&quot;Williams&quot;</td><td>111</td><td>null</td></tr></tbody></table></div>"
      ],
      "text/plain": [
       "shape: (6, 3)\n",
       "┌────────────┬────────────┬────────┐\n",
       "│ LastName   ┆ EmployeeID ┆ DeptID │\n",
       "│ ---        ┆ ---        ┆ ---    │\n",
       "│ str        ┆ i64        ┆ i64    │\n",
       "╞════════════╪════════════╪════════╡\n",
       "│ Rafferty   ┆ 102        ┆ 31     │\n",
       "│ Jones      ┆ 105        ┆ 33     │\n",
       "│ Heisenberg ┆ 106        ┆ 33     │\n",
       "│ Robinson   ┆ 108        ┆ 34     │\n",
       "│ Smith      ┆ 110        ┆ 34     │\n",
       "│ Williams   ┆ 111        ┆ null   │\n",
       "└────────────┴────────────┴────────┘"
      ]
     },
     "execution_count": 7,
     "metadata": {},
     "output_type": "execute_result"
    }
   ],
   "source": [
    "empl = pl.read_csv(\"./sample_data/employee.csv\")\n",
    "empl"
   ]
  },
  {
   "cell_type": "code",
   "execution_count": 8,
   "id": "ce093637",
   "metadata": {
    "slideshow": {
     "slide_type": "slide"
    }
   },
   "outputs": [
    {
     "data": {
      "text/html": [
       "<div><style>\n",
       ".dataframe > thead > tr,\n",
       ".dataframe > tbody > tr {\n",
       "  text-align: right;\n",
       "  white-space: pre-wrap;\n",
       "}\n",
       "</style>\n",
       "<small>shape: (18, 3)</small><table border=\"1\" class=\"dataframe\"><thead><tr><th>EmployeeID</th><th>Year</th><th>Salary</th></tr><tr><td>i64</td><td>i64</td><td>i64</td></tr></thead><tbody><tr><td>102</td><td>2020</td><td>52000</td></tr><tr><td>102</td><td>2021</td><td>53000</td></tr><tr><td>102</td><td>2022</td><td>54000</td></tr><tr><td>105</td><td>2020</td><td>73000</td></tr><tr><td>105</td><td>2021</td><td>74000</td></tr><tr><td>&hellip;</td><td>&hellip;</td><td>&hellip;</td></tr><tr><td>110</td><td>2021</td><td>59000</td></tr><tr><td>110</td><td>2022</td><td>61000</td></tr><tr><td>111</td><td>2020</td><td>72000</td></tr><tr><td>111</td><td>2021</td><td>73000</td></tr><tr><td>111</td><td>2022</td><td>74000</td></tr></tbody></table></div>"
      ],
      "text/plain": [
       "shape: (18, 3)\n",
       "┌────────────┬──────┬────────┐\n",
       "│ EmployeeID ┆ Year ┆ Salary │\n",
       "│ ---        ┆ ---  ┆ ---    │\n",
       "│ i64        ┆ i64  ┆ i64    │\n",
       "╞════════════╪══════╪════════╡\n",
       "│ 102        ┆ 2020 ┆ 52000  │\n",
       "│ 102        ┆ 2021 ┆ 53000  │\n",
       "│ 102        ┆ 2022 ┆ 54000  │\n",
       "│ 105        ┆ 2020 ┆ 73000  │\n",
       "│ 105        ┆ 2021 ┆ 74000  │\n",
       "│ …          ┆ …    ┆ …      │\n",
       "│ 110        ┆ 2021 ┆ 59000  │\n",
       "│ 110        ┆ 2022 ┆ 61000  │\n",
       "│ 111        ┆ 2020 ┆ 72000  │\n",
       "│ 111        ┆ 2021 ┆ 73000  │\n",
       "│ 111        ┆ 2022 ┆ 74000  │\n",
       "└────────────┴──────┴────────┘"
      ]
     },
     "execution_count": 8,
     "metadata": {},
     "output_type": "execute_result"
    }
   ],
   "source": [
    "salary = pl.read_csv(\"./sample_data/salary.csv\")\n",
    "salary"
   ]
  },
  {
   "cell_type": "markdown",
   "id": "a0c27ff8",
   "metadata": {
    "slideshow": {
     "slide_type": "slide"
    }
   },
   "source": [
    "## LEFT JOIN"
   ]
  },
  {
   "cell_type": "code",
   "execution_count": 9,
   "id": "eb99c54b",
   "metadata": {
    "scrolled": true,
    "slideshow": {
     "slide_type": "fragment"
    }
   },
   "outputs": [
    {
     "data": {
      "text/html": [
       "<div><style>\n",
       ".dataframe > thead > tr,\n",
       ".dataframe > tbody > tr {\n",
       "  text-align: right;\n",
       "  white-space: pre-wrap;\n",
       "}\n",
       "</style>\n",
       "<small>shape: (6, 4)</small><table border=\"1\" class=\"dataframe\"><thead><tr><th>LastName</th><th>EmployeeID</th><th>DeptID</th><th>DeptName</th></tr><tr><td>str</td><td>i64</td><td>i64</td><td>str</td></tr></thead><tbody><tr><td>&quot;Rafferty&quot;</td><td>102</td><td>31</td><td>&quot;Sales&quot;</td></tr><tr><td>&quot;Jones&quot;</td><td>105</td><td>33</td><td>&quot;Engineering&quot;</td></tr><tr><td>&quot;Heisenberg&quot;</td><td>106</td><td>33</td><td>&quot;Engineering&quot;</td></tr><tr><td>&quot;Robinson&quot;</td><td>108</td><td>34</td><td>&quot;Clerical&quot;</td></tr><tr><td>&quot;Smith&quot;</td><td>110</td><td>34</td><td>&quot;Clerical&quot;</td></tr><tr><td>&quot;Williams&quot;</td><td>111</td><td>null</td><td>null</td></tr></tbody></table></div>"
      ],
      "text/plain": [
       "shape: (6, 4)\n",
       "┌────────────┬────────────┬────────┬─────────────┐\n",
       "│ LastName   ┆ EmployeeID ┆ DeptID ┆ DeptName    │\n",
       "│ ---        ┆ ---        ┆ ---    ┆ ---         │\n",
       "│ str        ┆ i64        ┆ i64    ┆ str         │\n",
       "╞════════════╪════════════╪════════╪═════════════╡\n",
       "│ Rafferty   ┆ 102        ┆ 31     ┆ Sales       │\n",
       "│ Jones      ┆ 105        ┆ 33     ┆ Engineering │\n",
       "│ Heisenberg ┆ 106        ┆ 33     ┆ Engineering │\n",
       "│ Robinson   ┆ 108        ┆ 34     ┆ Clerical    │\n",
       "│ Smith      ┆ 110        ┆ 34     ┆ Clerical    │\n",
       "│ Williams   ┆ 111        ┆ null   ┆ null        │\n",
       "└────────────┴────────────┴────────┴─────────────┘"
      ]
     },
     "execution_count": 9,
     "metadata": {},
     "output_type": "execute_result"
    }
   ],
   "source": [
    "empl.join(dept, on='DeptID', how='left')"
   ]
  },
  {
   "cell_type": "markdown",
   "id": "3e646506",
   "metadata": {
    "slideshow": {
     "slide_type": "slide"
    }
   },
   "source": [
    "## When the index names differ"
   ]
  },
  {
   "cell_type": "code",
   "execution_count": 10,
   "id": "90d5d469",
   "metadata": {
    "slideshow": {
     "slide_type": "fragment"
    }
   },
   "outputs": [
    {
     "data": {
      "text/html": [
       "<div><style>\n",
       ".dataframe > thead > tr,\n",
       ".dataframe > tbody > tr {\n",
       "  text-align: right;\n",
       "  white-space: pre-wrap;\n",
       "}\n",
       "</style>\n",
       "<small>shape: (6, 3)</small><table border=\"1\" class=\"dataframe\"><thead><tr><th>LastName</th><th>EmployeeID</th><th>dept_id</th></tr><tr><td>str</td><td>i64</td><td>i64</td></tr></thead><tbody><tr><td>&quot;Rafferty&quot;</td><td>102</td><td>31</td></tr><tr><td>&quot;Jones&quot;</td><td>105</td><td>33</td></tr><tr><td>&quot;Heisenberg&quot;</td><td>106</td><td>33</td></tr><tr><td>&quot;Robinson&quot;</td><td>108</td><td>34</td></tr><tr><td>&quot;Smith&quot;</td><td>110</td><td>34</td></tr><tr><td>&quot;Williams&quot;</td><td>111</td><td>null</td></tr></tbody></table></div>"
      ],
      "text/plain": [
       "shape: (6, 3)\n",
       "┌────────────┬────────────┬─────────┐\n",
       "│ LastName   ┆ EmployeeID ┆ dept_id │\n",
       "│ ---        ┆ ---        ┆ ---     │\n",
       "│ str        ┆ i64        ┆ i64     │\n",
       "╞════════════╪════════════╪═════════╡\n",
       "│ Rafferty   ┆ 102        ┆ 31      │\n",
       "│ Jones      ┆ 105        ┆ 33      │\n",
       "│ Heisenberg ┆ 106        ┆ 33      │\n",
       "│ Robinson   ┆ 108        ┆ 34      │\n",
       "│ Smith      ┆ 110        ┆ 34      │\n",
       "│ Williams   ┆ 111        ┆ null    │\n",
       "└────────────┴────────────┴─────────┘"
      ]
     },
     "execution_count": 10,
     "metadata": {},
     "output_type": "execute_result"
    }
   ],
   "source": [
    "empl2 = empl.rename({'DeptID':'dept_id'})\n",
    "empl2"
   ]
  },
  {
   "cell_type": "code",
   "execution_count": 11,
   "id": "b236f9e7",
   "metadata": {
    "scrolled": true,
    "slideshow": {
     "slide_type": "fragment"
    }
   },
   "outputs": [
    {
     "data": {
      "text/html": [
       "<div><style>\n",
       ".dataframe > thead > tr,\n",
       ".dataframe > tbody > tr {\n",
       "  text-align: right;\n",
       "  white-space: pre-wrap;\n",
       "}\n",
       "</style>\n",
       "<small>shape: (6, 4)</small><table border=\"1\" class=\"dataframe\"><thead><tr><th>LastName</th><th>EmployeeID</th><th>dept_id</th><th>DeptName</th></tr><tr><td>str</td><td>i64</td><td>i64</td><td>str</td></tr></thead><tbody><tr><td>&quot;Rafferty&quot;</td><td>102</td><td>31</td><td>&quot;Sales&quot;</td></tr><tr><td>&quot;Jones&quot;</td><td>105</td><td>33</td><td>&quot;Engineering&quot;</td></tr><tr><td>&quot;Heisenberg&quot;</td><td>106</td><td>33</td><td>&quot;Engineering&quot;</td></tr><tr><td>&quot;Robinson&quot;</td><td>108</td><td>34</td><td>&quot;Clerical&quot;</td></tr><tr><td>&quot;Smith&quot;</td><td>110</td><td>34</td><td>&quot;Clerical&quot;</td></tr><tr><td>&quot;Williams&quot;</td><td>111</td><td>null</td><td>null</td></tr></tbody></table></div>"
      ],
      "text/plain": [
       "shape: (6, 4)\n",
       "┌────────────┬────────────┬─────────┬─────────────┐\n",
       "│ LastName   ┆ EmployeeID ┆ dept_id ┆ DeptName    │\n",
       "│ ---        ┆ ---        ┆ ---     ┆ ---         │\n",
       "│ str        ┆ i64        ┆ i64     ┆ str         │\n",
       "╞════════════╪════════════╪═════════╪═════════════╡\n",
       "│ Rafferty   ┆ 102        ┆ 31      ┆ Sales       │\n",
       "│ Jones      ┆ 105        ┆ 33      ┆ Engineering │\n",
       "│ Heisenberg ┆ 106        ┆ 33      ┆ Engineering │\n",
       "│ Robinson   ┆ 108        ┆ 34      ┆ Clerical    │\n",
       "│ Smith      ┆ 110        ┆ 34      ┆ Clerical    │\n",
       "│ Williams   ┆ 111        ┆ null    ┆ null        │\n",
       "└────────────┴────────────┴─────────┴─────────────┘"
      ]
     },
     "execution_count": 11,
     "metadata": {},
     "output_type": "execute_result"
    }
   ],
   "source": [
    "empl2.join(dept, left_on='dept_id', right_on='DeptID', how='left')"
   ]
  },
  {
   "cell_type": "markdown",
   "id": "b97b4331",
   "metadata": {
    "slideshow": {
     "slide_type": "slide"
    }
   },
   "source": [
    "## No RIGHT JOIN, use a LEFT JOIN"
   ]
  },
  {
   "cell_type": "code",
   "execution_count": 12,
   "id": "51eb028c",
   "metadata": {
    "scrolled": true,
    "slideshow": {
     "slide_type": "fragment"
    }
   },
   "outputs": [
    {
     "data": {
      "text/html": [
       "<div><style>\n",
       ".dataframe > thead > tr,\n",
       ".dataframe > tbody > tr {\n",
       "  text-align: right;\n",
       "  white-space: pre-wrap;\n",
       "}\n",
       "</style>\n",
       "<small>shape: (6, 4)</small><table border=\"1\" class=\"dataframe\"><thead><tr><th>DeptID</th><th>DeptName</th><th>LastName</th><th>EmployeeID</th></tr><tr><td>i64</td><td>str</td><td>str</td><td>i64</td></tr></thead><tbody><tr><td>31</td><td>&quot;Sales&quot;</td><td>&quot;Rafferty&quot;</td><td>102</td></tr><tr><td>33</td><td>&quot;Engineering&quot;</td><td>&quot;Jones&quot;</td><td>105</td></tr><tr><td>33</td><td>&quot;Engineering&quot;</td><td>&quot;Heisenberg&quot;</td><td>106</td></tr><tr><td>34</td><td>&quot;Clerical&quot;</td><td>&quot;Robinson&quot;</td><td>108</td></tr><tr><td>34</td><td>&quot;Clerical&quot;</td><td>&quot;Smith&quot;</td><td>110</td></tr><tr><td>35</td><td>&quot;Marketing&quot;</td><td>null</td><td>null</td></tr></tbody></table></div>"
      ],
      "text/plain": [
       "shape: (6, 4)\n",
       "┌────────┬─────────────┬────────────┬────────────┐\n",
       "│ DeptID ┆ DeptName    ┆ LastName   ┆ EmployeeID │\n",
       "│ ---    ┆ ---         ┆ ---        ┆ ---        │\n",
       "│ i64    ┆ str         ┆ str        ┆ i64        │\n",
       "╞════════╪═════════════╪════════════╪════════════╡\n",
       "│ 31     ┆ Sales       ┆ Rafferty   ┆ 102        │\n",
       "│ 33     ┆ Engineering ┆ Jones      ┆ 105        │\n",
       "│ 33     ┆ Engineering ┆ Heisenberg ┆ 106        │\n",
       "│ 34     ┆ Clerical    ┆ Robinson   ┆ 108        │\n",
       "│ 34     ┆ Clerical    ┆ Smith      ┆ 110        │\n",
       "│ 35     ┆ Marketing   ┆ null       ┆ null       │\n",
       "└────────┴─────────────┴────────────┴────────────┘"
      ]
     },
     "execution_count": 12,
     "metadata": {},
     "output_type": "execute_result"
    }
   ],
   "source": [
    "dept.join(empl, on='DeptID', how='left')"
   ]
  },
  {
   "cell_type": "markdown",
   "id": "a4b95613",
   "metadata": {
    "slideshow": {
     "slide_type": "slide"
    }
   },
   "source": [
    "## Full Outer Join"
   ]
  },
  {
   "cell_type": "code",
   "execution_count": 13,
   "id": "eb1b0c41",
   "metadata": {
    "scrolled": true,
    "slideshow": {
     "slide_type": "fragment"
    }
   },
   "outputs": [
    {
     "name": "stderr",
     "output_type": "stream",
     "text": [
      "C:\\Users\\su6123ck\\AppData\\Local\\Temp\\ipykernel_2480\\3270903518.py:1: DeprecationWarning: Use of `how='outer'` should be replaced with `how='full'`.\n",
      "  empl.join(dept, on='DeptID', how='outer')\n"
     ]
    },
    {
     "data": {
      "text/html": [
       "<div><style>\n",
       ".dataframe > thead > tr,\n",
       ".dataframe > tbody > tr {\n",
       "  text-align: right;\n",
       "  white-space: pre-wrap;\n",
       "}\n",
       "</style>\n",
       "<small>shape: (7, 5)</small><table border=\"1\" class=\"dataframe\"><thead><tr><th>LastName</th><th>EmployeeID</th><th>DeptID</th><th>DeptID_right</th><th>DeptName</th></tr><tr><td>str</td><td>i64</td><td>i64</td><td>i64</td><td>str</td></tr></thead><tbody><tr><td>&quot;Rafferty&quot;</td><td>102</td><td>31</td><td>31</td><td>&quot;Sales&quot;</td></tr><tr><td>&quot;Jones&quot;</td><td>105</td><td>33</td><td>33</td><td>&quot;Engineering&quot;</td></tr><tr><td>&quot;Heisenberg&quot;</td><td>106</td><td>33</td><td>33</td><td>&quot;Engineering&quot;</td></tr><tr><td>&quot;Robinson&quot;</td><td>108</td><td>34</td><td>34</td><td>&quot;Clerical&quot;</td></tr><tr><td>&quot;Smith&quot;</td><td>110</td><td>34</td><td>34</td><td>&quot;Clerical&quot;</td></tr><tr><td>&quot;Williams&quot;</td><td>111</td><td>null</td><td>null</td><td>null</td></tr><tr><td>null</td><td>null</td><td>null</td><td>35</td><td>&quot;Marketing&quot;</td></tr></tbody></table></div>"
      ],
      "text/plain": [
       "shape: (7, 5)\n",
       "┌────────────┬────────────┬────────┬──────────────┬─────────────┐\n",
       "│ LastName   ┆ EmployeeID ┆ DeptID ┆ DeptID_right ┆ DeptName    │\n",
       "│ ---        ┆ ---        ┆ ---    ┆ ---          ┆ ---         │\n",
       "│ str        ┆ i64        ┆ i64    ┆ i64          ┆ str         │\n",
       "╞════════════╪════════════╪════════╪══════════════╪═════════════╡\n",
       "│ Rafferty   ┆ 102        ┆ 31     ┆ 31           ┆ Sales       │\n",
       "│ Jones      ┆ 105        ┆ 33     ┆ 33           ┆ Engineering │\n",
       "│ Heisenberg ┆ 106        ┆ 33     ┆ 33           ┆ Engineering │\n",
       "│ Robinson   ┆ 108        ┆ 34     ┆ 34           ┆ Clerical    │\n",
       "│ Smith      ┆ 110        ┆ 34     ┆ 34           ┆ Clerical    │\n",
       "│ Williams   ┆ 111        ┆ null   ┆ null         ┆ null        │\n",
       "│ null       ┆ null       ┆ null   ┆ 35           ┆ Marketing   │\n",
       "└────────────┴────────────┴────────┴──────────────┴─────────────┘"
      ]
     },
     "execution_count": 13,
     "metadata": {},
     "output_type": "execute_result"
    }
   ],
   "source": [
    "empl.join(dept, on='DeptID', how='outer')"
   ]
  },
  {
   "cell_type": "markdown",
   "id": "5476d4d1",
   "metadata": {
    "slideshow": {
     "slide_type": "slide"
    }
   },
   "source": [
    "## Inner Join"
   ]
  },
  {
   "cell_type": "code",
   "execution_count": 14,
   "id": "f1ad6378",
   "metadata": {
    "scrolled": true,
    "slideshow": {
     "slide_type": "fragment"
    }
   },
   "outputs": [
    {
     "data": {
      "text/html": [
       "<div><style>\n",
       ".dataframe > thead > tr,\n",
       ".dataframe > tbody > tr {\n",
       "  text-align: right;\n",
       "  white-space: pre-wrap;\n",
       "}\n",
       "</style>\n",
       "<small>shape: (5, 4)</small><table border=\"1\" class=\"dataframe\"><thead><tr><th>LastName</th><th>EmployeeID</th><th>DeptID</th><th>DeptName</th></tr><tr><td>str</td><td>i64</td><td>i64</td><td>str</td></tr></thead><tbody><tr><td>&quot;Rafferty&quot;</td><td>102</td><td>31</td><td>&quot;Sales&quot;</td></tr><tr><td>&quot;Jones&quot;</td><td>105</td><td>33</td><td>&quot;Engineering&quot;</td></tr><tr><td>&quot;Heisenberg&quot;</td><td>106</td><td>33</td><td>&quot;Engineering&quot;</td></tr><tr><td>&quot;Robinson&quot;</td><td>108</td><td>34</td><td>&quot;Clerical&quot;</td></tr><tr><td>&quot;Smith&quot;</td><td>110</td><td>34</td><td>&quot;Clerical&quot;</td></tr></tbody></table></div>"
      ],
      "text/plain": [
       "shape: (5, 4)\n",
       "┌────────────┬────────────┬────────┬─────────────┐\n",
       "│ LastName   ┆ EmployeeID ┆ DeptID ┆ DeptName    │\n",
       "│ ---        ┆ ---        ┆ ---    ┆ ---         │\n",
       "│ str        ┆ i64        ┆ i64    ┆ str         │\n",
       "╞════════════╪════════════╪════════╪═════════════╡\n",
       "│ Rafferty   ┆ 102        ┆ 31     ┆ Sales       │\n",
       "│ Jones      ┆ 105        ┆ 33     ┆ Engineering │\n",
       "│ Heisenberg ┆ 106        ┆ 33     ┆ Engineering │\n",
       "│ Robinson   ┆ 108        ┆ 34     ┆ Clerical    │\n",
       "│ Smith      ┆ 110        ┆ 34     ┆ Clerical    │\n",
       "└────────────┴────────────┴────────┴─────────────┘"
      ]
     },
     "execution_count": 14,
     "metadata": {},
     "output_type": "execute_result"
    }
   ],
   "source": [
    "empl.join(dept, on='DeptID', how='inner')"
   ]
  },
  {
   "cell_type": "markdown",
   "id": "66d6f787",
   "metadata": {},
   "source": [
    "## Chaining multiple joins\n",
    "\n",
    "To join more than two tables, simply dot-chain each join onto the first table.\n",
    "\n",
    "```{python}\n",
    "(table1\n",
    " .join(table2, ...)\n",
    " .join(table3, ...)\n",
    ")\n",
    "```"
   ]
  },
  {
   "cell_type": "markdown",
   "id": "f6a0170c",
   "metadata": {},
   "source": [
    "### Example - Average salary by department\n",
    "\n",
    "Suppose we want to compute the average salary for each department, sorted from largest to smallest.  Before performing the query, make sure you understand the relationships between tables.\n",
    "\n",
    "<img src=\"https://github.com/WSU-DataScience/dsci_325_module_7_more_data_management_in_python/raw/main/img/table_relationship.png\" width=\"800\">\n"
   ]
  },
  {
   "cell_type": "markdown",
   "id": "dc1cbefe",
   "metadata": {
    "slideshow": {
     "slide_type": "slide"
    }
   },
   "source": [
    "#### Edit 1 - Joining the salary and employee tables\n",
    "\n",
    "**Notes.**\n",
    "\n",
    "1. We can't perform the aggregation until *after* joining the departments and salaries.\n",
    "2. Since we are primarily interested in aggregating salaries, we need to use a *left* join with the salary table on the left.\n",
    "3. To illustrate the coding process, we will show each successive edit in a separate cell.  In practice, all the code would be developed in one cell, but rerun to check the results at each step."
   ]
  },
  {
   "cell_type": "code",
   "execution_count": 15,
   "id": "5d96a57b",
   "metadata": {
    "slideshow": {
     "slide_type": "fragment"
    }
   },
   "outputs": [
    {
     "data": {
      "text/html": [
       "<div><style>\n",
       ".dataframe > thead > tr,\n",
       ".dataframe > tbody > tr {\n",
       "  text-align: right;\n",
       "  white-space: pre-wrap;\n",
       "}\n",
       "</style>\n",
       "<small>shape: (5, 5)</small><table border=\"1\" class=\"dataframe\"><thead><tr><th>EmployeeID</th><th>Year</th><th>Salary</th><th>LastName</th><th>DeptID</th></tr><tr><td>i64</td><td>i64</td><td>i64</td><td>str</td><td>i64</td></tr></thead><tbody><tr><td>102</td><td>2020</td><td>52000</td><td>&quot;Rafferty&quot;</td><td>31</td></tr><tr><td>102</td><td>2021</td><td>53000</td><td>&quot;Rafferty&quot;</td><td>31</td></tr><tr><td>102</td><td>2022</td><td>54000</td><td>&quot;Rafferty&quot;</td><td>31</td></tr><tr><td>105</td><td>2020</td><td>73000</td><td>&quot;Jones&quot;</td><td>33</td></tr><tr><td>105</td><td>2021</td><td>74000</td><td>&quot;Jones&quot;</td><td>33</td></tr></tbody></table></div>"
      ],
      "text/plain": [
       "shape: (5, 5)\n",
       "┌────────────┬──────┬────────┬──────────┬────────┐\n",
       "│ EmployeeID ┆ Year ┆ Salary ┆ LastName ┆ DeptID │\n",
       "│ ---        ┆ ---  ┆ ---    ┆ ---      ┆ ---    │\n",
       "│ i64        ┆ i64  ┆ i64    ┆ str      ┆ i64    │\n",
       "╞════════════╪══════╪════════╪══════════╪════════╡\n",
       "│ 102        ┆ 2020 ┆ 52000  ┆ Rafferty ┆ 31     │\n",
       "│ 102        ┆ 2021 ┆ 53000  ┆ Rafferty ┆ 31     │\n",
       "│ 102        ┆ 2022 ┆ 54000  ┆ Rafferty ┆ 31     │\n",
       "│ 105        ┆ 2020 ┆ 73000  ┆ Jones    ┆ 33     │\n",
       "│ 105        ┆ 2021 ┆ 74000  ┆ Jones    ┆ 33     │\n",
       "└────────────┴──────┴────────┴──────────┴────────┘"
      ]
     },
     "execution_count": 15,
     "metadata": {},
     "output_type": "execute_result"
    }
   ],
   "source": [
    "(salary\n",
    " .join(empl, on='EmployeeID', how='left')\n",
    ").head()"
   ]
  },
  {
   "cell_type": "markdown",
   "id": "4c5f345d",
   "metadata": {
    "slideshow": {
     "slide_type": "slide"
    }
   },
   "source": [
    "#### Edit 2  - Joining on the departments"
   ]
  },
  {
   "cell_type": "code",
   "execution_count": 16,
   "id": "a569b19c",
   "metadata": {
    "slideshow": {
     "slide_type": "fragment"
    }
   },
   "outputs": [
    {
     "data": {
      "text/html": [
       "<div><style>\n",
       ".dataframe > thead > tr,\n",
       ".dataframe > tbody > tr {\n",
       "  text-align: right;\n",
       "  white-space: pre-wrap;\n",
       "}\n",
       "</style>\n",
       "<small>shape: (5, 6)</small><table border=\"1\" class=\"dataframe\"><thead><tr><th>EmployeeID</th><th>Year</th><th>Salary</th><th>LastName</th><th>DeptID</th><th>DeptName</th></tr><tr><td>i64</td><td>i64</td><td>i64</td><td>str</td><td>i64</td><td>str</td></tr></thead><tbody><tr><td>102</td><td>2020</td><td>52000</td><td>&quot;Rafferty&quot;</td><td>31</td><td>&quot;Sales&quot;</td></tr><tr><td>102</td><td>2021</td><td>53000</td><td>&quot;Rafferty&quot;</td><td>31</td><td>&quot;Sales&quot;</td></tr><tr><td>102</td><td>2022</td><td>54000</td><td>&quot;Rafferty&quot;</td><td>31</td><td>&quot;Sales&quot;</td></tr><tr><td>105</td><td>2020</td><td>73000</td><td>&quot;Jones&quot;</td><td>33</td><td>&quot;Engineering&quot;</td></tr><tr><td>105</td><td>2021</td><td>74000</td><td>&quot;Jones&quot;</td><td>33</td><td>&quot;Engineering&quot;</td></tr></tbody></table></div>"
      ],
      "text/plain": [
       "shape: (5, 6)\n",
       "┌────────────┬──────┬────────┬──────────┬────────┬─────────────┐\n",
       "│ EmployeeID ┆ Year ┆ Salary ┆ LastName ┆ DeptID ┆ DeptName    │\n",
       "│ ---        ┆ ---  ┆ ---    ┆ ---      ┆ ---    ┆ ---         │\n",
       "│ i64        ┆ i64  ┆ i64    ┆ str      ┆ i64    ┆ str         │\n",
       "╞════════════╪══════╪════════╪══════════╪════════╪═════════════╡\n",
       "│ 102        ┆ 2020 ┆ 52000  ┆ Rafferty ┆ 31     ┆ Sales       │\n",
       "│ 102        ┆ 2021 ┆ 53000  ┆ Rafferty ┆ 31     ┆ Sales       │\n",
       "│ 102        ┆ 2022 ┆ 54000  ┆ Rafferty ┆ 31     ┆ Sales       │\n",
       "│ 105        ┆ 2020 ┆ 73000  ┆ Jones    ┆ 33     ┆ Engineering │\n",
       "│ 105        ┆ 2021 ┆ 74000  ┆ Jones    ┆ 33     ┆ Engineering │\n",
       "└────────────┴──────┴────────┴──────────┴────────┴─────────────┘"
      ]
     },
     "execution_count": 16,
     "metadata": {},
     "output_type": "execute_result"
    }
   ],
   "source": [
    "(salary\n",
    " .join(empl, on='EmployeeID', how='left')\n",
    " .join(dept, on='DeptID', how='left')\n",
    ").head()"
   ]
  },
  {
   "cell_type": "markdown",
   "id": "8c0a8c25",
   "metadata": {
    "slideshow": {
     "slide_type": "slide"
    }
   },
   "source": [
    "#### Edit 3  - Group and aggregate"
   ]
  },
  {
   "cell_type": "code",
   "execution_count": 17,
   "id": "1767b60d",
   "metadata": {
    "slideshow": {
     "slide_type": "fragment"
    }
   },
   "outputs": [
    {
     "ename": "AttributeError",
     "evalue": "'DataFrame' object has no attribute 'groupby'",
     "output_type": "error",
     "traceback": [
      "\u001b[1;31m---------------------------------------------------------------------------\u001b[0m",
      "\u001b[1;31mAttributeError\u001b[0m                            Traceback (most recent call last)",
      "Cell \u001b[1;32mIn[17], line 4\u001b[0m\n\u001b[0;32m      1\u001b[0m (\u001b[43msalary\u001b[49m\n\u001b[0;32m      2\u001b[0m \u001b[43m \u001b[49m\u001b[38;5;241;43m.\u001b[39;49m\u001b[43mjoin\u001b[49m\u001b[43m(\u001b[49m\u001b[43mempl\u001b[49m\u001b[43m,\u001b[49m\u001b[43m \u001b[49m\u001b[43mon\u001b[49m\u001b[38;5;241;43m=\u001b[39;49m\u001b[38;5;124;43m'\u001b[39;49m\u001b[38;5;124;43mEmployeeID\u001b[39;49m\u001b[38;5;124;43m'\u001b[39;49m\u001b[43m,\u001b[49m\u001b[43m \u001b[49m\u001b[43mhow\u001b[49m\u001b[38;5;241;43m=\u001b[39;49m\u001b[38;5;124;43m'\u001b[39;49m\u001b[38;5;124;43mleft\u001b[39;49m\u001b[38;5;124;43m'\u001b[39;49m\u001b[43m)\u001b[49m\n\u001b[0;32m      3\u001b[0m \u001b[43m \u001b[49m\u001b[38;5;241;43m.\u001b[39;49m\u001b[43mjoin\u001b[49m\u001b[43m(\u001b[49m\u001b[43mdept\u001b[49m\u001b[43m,\u001b[49m\u001b[43m \u001b[49m\u001b[43mon\u001b[49m\u001b[38;5;241;43m=\u001b[39;49m\u001b[38;5;124;43m'\u001b[39;49m\u001b[38;5;124;43mDeptID\u001b[39;49m\u001b[38;5;124;43m'\u001b[39;49m\u001b[43m,\u001b[49m\u001b[43m \u001b[49m\u001b[43mhow\u001b[49m\u001b[38;5;241;43m=\u001b[39;49m\u001b[38;5;124;43m'\u001b[39;49m\u001b[38;5;124;43mleft\u001b[39;49m\u001b[38;5;124;43m'\u001b[39;49m\u001b[43m)\u001b[49m\n\u001b[1;32m----> 4\u001b[0m \u001b[43m \u001b[49m\u001b[38;5;241;43m.\u001b[39;49m\u001b[43mgroupby\u001b[49m(\u001b[38;5;124m'\u001b[39m\u001b[38;5;124mDeptName\u001b[39m\u001b[38;5;124m'\u001b[39m)\n\u001b[0;32m      5\u001b[0m  \u001b[38;5;241m.\u001b[39magg([pl\u001b[38;5;241m.\u001b[39mcol(\u001b[38;5;124m'\u001b[39m\u001b[38;5;124mSalary\u001b[39m\u001b[38;5;124m'\u001b[39m)\u001b[38;5;241m.\u001b[39mmean()\u001b[38;5;241m.\u001b[39malias(\u001b[38;5;124m'\u001b[39m\u001b[38;5;124mAverage Salary\u001b[39m\u001b[38;5;124m'\u001b[39m),\n\u001b[0;32m      6\u001b[0m       ])\n\u001b[0;32m      7\u001b[0m )\n",
      "\u001b[1;31mAttributeError\u001b[0m: 'DataFrame' object has no attribute 'groupby'"
     ]
    }
   ],
   "source": [
    "(salary\n",
    " .join(empl, on='EmployeeID', how='left')\n",
    " .join(dept, on='DeptID', how='left')\n",
    " .groupby('DeptName')\n",
    " .agg([pl.col('Salary').mean().alias('Average Salary'),\n",
    "      ])\n",
    ")"
   ]
  },
  {
   "cell_type": "markdown",
   "id": "25834b09",
   "metadata": {
    "slideshow": {
     "slide_type": "slide"
    }
   },
   "source": [
    "#### Edit 4  - Sort the results from largest to smallest"
   ]
  },
  {
   "cell_type": "code",
   "execution_count": null,
   "id": "f3d25fc0",
   "metadata": {
    "slideshow": {
     "slide_type": "fragment"
    }
   },
   "outputs": [],
   "source": [
    "(salary\n",
    " .join(empl, on='EmployeeID', how='left')\n",
    " .join(dept, on='DeptID', how='left')\n",
    " .groupby('DeptName')\n",
    " .agg([pl.col('Salary').mean().alias('Average Salary'),\n",
    "      ])\n",
    " .sort('Average Salary', reverse=True)\n",
    ")"
   ]
  },
  {
   "cell_type": "markdown",
   "id": "e9d70090",
   "metadata": {},
   "source": [
    "## Example 2 - Joining Batting to People\n",
    "\n",
    "As an example of a joining on more than 1 column, consider the following task.\n",
    "\n",
    "**Task:** Create a table with the total runs score for each team in 2009.  Include the teams proper name and the name of their home park."
   ]
  },
  {
   "cell_type": "code",
   "execution_count": null,
   "id": "8cfbe73d",
   "metadata": {},
   "outputs": [],
   "source": [
    "batting = pl.read_csv(\"./sample_data/baseball/core/Batting.csv\")\n",
    "batting.head()"
   ]
  },
  {
   "cell_type": "code",
   "execution_count": null,
   "id": "48fae7b6",
   "metadata": {},
   "outputs": [],
   "source": [
    "teams = pl.read_csv(\"./sample_data/baseball/core/Teams.csv\")\n",
    "teams.head()"
   ]
  },
  {
   "cell_type": "markdown",
   "id": "e7517e07",
   "metadata": {},
   "source": [
    "## Things we need from `Batting.csv`\n",
    "\n",
    "* Year\n",
    "* Runs\n",
    "* Team"
   ]
  },
  {
   "cell_type": "code",
   "execution_count": null,
   "id": "b9c81f54",
   "metadata": {
    "scrolled": true
   },
   "outputs": [],
   "source": [
    "batting.head(2)"
   ]
  },
  {
   "cell_type": "markdown",
   "id": "4b9f507b",
   "metadata": {},
   "source": [
    "#### Selecting down to the necessary columns"
   ]
  },
  {
   "cell_type": "code",
   "execution_count": null,
   "id": "7d763545",
   "metadata": {},
   "outputs": [],
   "source": [
    "batting_select = (batting\n",
    "                  .select(['teamID',\n",
    "                           'yearID',\n",
    "                           'R'])\n",
    "                 )\n",
    "batting_select.head()"
   ]
  },
  {
   "cell_type": "code",
   "execution_count": null,
   "id": "abda9540",
   "metadata": {},
   "outputs": [],
   "source": [
    "batting_select.shape"
   ]
  },
  {
   "cell_type": "markdown",
   "id": "9b9bba04",
   "metadata": {},
   "source": [
    "## Things we need from `Teams.csv`\n",
    "\n",
    "* Year\n",
    "* Runs\n",
    "* Team"
   ]
  },
  {
   "cell_type": "code",
   "execution_count": null,
   "id": "f9f71cc6",
   "metadata": {
    "scrolled": true
   },
   "outputs": [],
   "source": [
    "teams.head(2)"
   ]
  },
  {
   "cell_type": "markdown",
   "id": "9c048e2a",
   "metadata": {},
   "source": [
    "#### Selecting down to the necessary columns"
   ]
  },
  {
   "cell_type": "code",
   "execution_count": null,
   "id": "89088a93",
   "metadata": {
    "scrolled": true
   },
   "outputs": [],
   "source": [
    "teams_select = (teams.select(['yearID',\n",
    "                              'teamID',\n",
    "                              'name',\n",
    "                              'park',\n",
    "                             ]))\n",
    "teams_select.head()"
   ]
  },
  {
   "cell_type": "code",
   "execution_count": null,
   "id": "b3667d9e",
   "metadata": {},
   "outputs": [],
   "source": [
    "teams_select.shape"
   ]
  },
  {
   "cell_type": "markdown",
   "id": "8aa6a725",
   "metadata": {},
   "source": [
    "## How can we match these columns?\n",
    "\n",
    "We will need to match on both `teamID` and `yearID` because\n",
    "\n",
    "1. Team names might change\n",
    "2. The teams park depends on the year."
   ]
  },
  {
   "cell_type": "markdown",
   "id": "3f525984",
   "metadata": {},
   "source": [
    "## Determining the correct join.\n",
    "\n",
    "Facts of the task:\n",
    "\n",
    "* We want batting statistics for all players in 2009\n",
    "* We want only teams names and parks for teams that played that year.\n",
    "\n",
    "**Question:** Which join? \n",
    "**Answer:** `batting >> left_join(teams)` on both year and "
   ]
  },
  {
   "cell_type": "markdown",
   "id": "f5299162",
   "metadata": {},
   "source": [
    "## How to join on multiple columns\n",
    "\n",
    "Pass a list of columns names to `on`"
   ]
  },
  {
   "cell_type": "code",
   "execution_count": 18,
   "id": "9a3b269c",
   "metadata": {},
   "outputs": [
    {
     "ename": "NameError",
     "evalue": "name 'batting_select' is not defined",
     "output_type": "error",
     "traceback": [
      "\u001b[1;31m---------------------------------------------------------------------------\u001b[0m",
      "\u001b[1;31mNameError\u001b[0m                                 Traceback (most recent call last)",
      "Cell \u001b[1;32mIn[18], line 1\u001b[0m\n\u001b[1;32m----> 1\u001b[0m df_joined \u001b[38;5;241m=\u001b[39m \u001b[43mbatting_select\u001b[49m\u001b[38;5;241m.\u001b[39mjoin(teams_select, on\u001b[38;5;241m=\u001b[39m[\u001b[38;5;124m'\u001b[39m\u001b[38;5;124mteamID\u001b[39m\u001b[38;5;124m'\u001b[39m, \u001b[38;5;124m'\u001b[39m\u001b[38;5;124myearID\u001b[39m\u001b[38;5;124m'\u001b[39m], how\u001b[38;5;241m=\u001b[39m\u001b[38;5;124m'\u001b[39m\u001b[38;5;124mleft\u001b[39m\u001b[38;5;124m'\u001b[39m)\n\u001b[0;32m      2\u001b[0m df_joined\u001b[38;5;241m.\u001b[39mhead()\n",
      "\u001b[1;31mNameError\u001b[0m: name 'batting_select' is not defined"
     ]
    }
   ],
   "source": [
    "df_joined = batting_select.join(teams_select, on=['teamID', 'yearID'], how='left')\n",
    "df_joined.head()"
   ]
  },
  {
   "cell_type": "code",
   "execution_count": 19,
   "id": "b7e08c34",
   "metadata": {},
   "outputs": [
    {
     "ename": "NameError",
     "evalue": "name 'df_joined' is not defined",
     "output_type": "error",
     "traceback": [
      "\u001b[1;31m---------------------------------------------------------------------------\u001b[0m",
      "\u001b[1;31mNameError\u001b[0m                                 Traceback (most recent call last)",
      "Cell \u001b[1;32mIn[19], line 1\u001b[0m\n\u001b[1;32m----> 1\u001b[0m \u001b[43mdf_joined\u001b[49m\u001b[38;5;241m.\u001b[39mshape\n",
      "\u001b[1;31mNameError\u001b[0m: name 'df_joined' is not defined"
     ]
    }
   ],
   "source": [
    "df_joined.shape"
   ]
  },
  {
   "cell_type": "markdown",
   "id": "07e855b3",
   "metadata": {},
   "source": [
    "#### Filter, group by, and aggregate to get the desired result."
   ]
  },
  {
   "cell_type": "code",
   "execution_count": 20,
   "id": "54e99fa7",
   "metadata": {},
   "outputs": [
    {
     "ename": "NameError",
     "evalue": "name 'df_joined' is not defined",
     "output_type": "error",
     "traceback": [
      "\u001b[1;31m---------------------------------------------------------------------------\u001b[0m",
      "\u001b[1;31mNameError\u001b[0m                                 Traceback (most recent call last)",
      "Cell \u001b[1;32mIn[20], line 1\u001b[0m\n\u001b[1;32m----> 1\u001b[0m runs_per_team09 \u001b[38;5;241m=\u001b[39m (\u001b[43mdf_joined\u001b[49m\n\u001b[0;32m      2\u001b[0m                    \u001b[38;5;241m.\u001b[39mfilter(pl\u001b[38;5;241m.\u001b[39mcol(\u001b[38;5;124m'\u001b[39m\u001b[38;5;124myearID\u001b[39m\u001b[38;5;124m'\u001b[39m) \u001b[38;5;241m==\u001b[39m \u001b[38;5;241m2009\u001b[39m)\n\u001b[0;32m      3\u001b[0m                    \u001b[38;5;241m.\u001b[39mgroupby([pl\u001b[38;5;241m.\u001b[39mcol(\u001b[38;5;124m'\u001b[39m\u001b[38;5;124mname\u001b[39m\u001b[38;5;124m'\u001b[39m), pl\u001b[38;5;241m.\u001b[39mcol(\u001b[38;5;124m'\u001b[39m\u001b[38;5;124mpark\u001b[39m\u001b[38;5;124m'\u001b[39m)])\n\u001b[0;32m      4\u001b[0m                    \u001b[38;5;241m.\u001b[39magg(pl\u001b[38;5;241m.\u001b[39mcol(\u001b[38;5;124m'\u001b[39m\u001b[38;5;124mR\u001b[39m\u001b[38;5;124m'\u001b[39m)\u001b[38;5;241m.\u001b[39msum()\u001b[38;5;241m.\u001b[39malias(\u001b[38;5;124m'\u001b[39m\u001b[38;5;124mtotal_runs\u001b[39m\u001b[38;5;124m'\u001b[39m)))\n\u001b[0;32m      5\u001b[0m runs_per_team09\u001b[38;5;241m.\u001b[39mhead()\n",
      "\u001b[1;31mNameError\u001b[0m: name 'df_joined' is not defined"
     ]
    }
   ],
   "source": [
    "runs_per_team09 = (df_joined\n",
    "                   .filter(pl.col('yearID') == 2009)\n",
    "                   .groupby([pl.col('name'), pl.col('park')])\n",
    "                   .agg(pl.col('R').sum().alias('total_runs')))\n",
    "runs_per_team09.head()"
   ]
  },
  {
   "cell_type": "code",
   "execution_count": 21,
   "id": "70b7edf0",
   "metadata": {},
   "outputs": [
    {
     "ename": "NameError",
     "evalue": "name 'runs_per_team09' is not defined",
     "output_type": "error",
     "traceback": [
      "\u001b[1;31m---------------------------------------------------------------------------\u001b[0m",
      "\u001b[1;31mNameError\u001b[0m                                 Traceback (most recent call last)",
      "Cell \u001b[1;32mIn[21], line 1\u001b[0m\n\u001b[1;32m----> 1\u001b[0m \u001b[43mruns_per_team09\u001b[49m\u001b[38;5;241m.\u001b[39mshape\n",
      "\u001b[1;31mNameError\u001b[0m: name 'runs_per_team09' is not defined"
     ]
    }
   ],
   "source": [
    "runs_per_team09.shape"
   ]
  },
  {
   "cell_type": "markdown",
   "id": "9af4b290",
   "metadata": {},
   "source": [
    "## Joins are expensive!\n",
    "\n",
    "**Be careful when joining large tables!! Especially for full outer joins!!!**\n",
    "\n",
    "When joining table `A` to table `B`, \n",
    "\n",
    "* `inner_join` performs `min(len(A), len(B))` comparisons\n",
    "* `outer_join` performs `len(A)*len(B)` row comparisons.\n",
    "* `left_join` and `right_join` are somewhere inbetween (depending on how we treat multiples)."
   ]
  },
  {
   "cell_type": "markdown",
   "id": "4610e077",
   "metadata": {},
   "source": [
    "## Outer joins (can) produce LARGE tables.\n",
    "\n",
    "**Be careful when joining large tables!! Especially for full outer joins!!!**\n",
    "\n",
    "When joining table `A` to table `B`, \n",
    "\n",
    "* `outer_join` might produce `len(A)*len(B)` rows (worst case)\n",
    "* `left_join` and `right_join` are similar if we don't drop multiples."
   ]
  },
  {
   "cell_type": "markdown",
   "id": "513cac52",
   "metadata": {},
   "source": [
    "#### Last example "
   ]
  },
  {
   "cell_type": "code",
   "execution_count": 22,
   "id": "12ec8b5a",
   "metadata": {},
   "outputs": [
    {
     "ename": "NameError",
     "evalue": "name 'batting_select' is not defined",
     "output_type": "error",
     "traceback": [
      "\u001b[1;31m---------------------------------------------------------------------------\u001b[0m",
      "\u001b[1;31mNameError\u001b[0m                                 Traceback (most recent call last)",
      "Cell \u001b[1;32mIn[22], line 1\u001b[0m\n\u001b[1;32m----> 1\u001b[0m \u001b[38;5;28mlen\u001b[39m(\u001b[43mbatting_select\u001b[49m)\u001b[38;5;241m*\u001b[39m\u001b[38;5;28mlen\u001b[39m(teams_select)\n",
      "\u001b[1;31mNameError\u001b[0m: name 'batting_select' is not defined"
     ]
    }
   ],
   "source": [
    "len(batting_select)*len(teams_select)"
   ]
  },
  {
   "cell_type": "markdown",
   "id": "bc209673",
   "metadata": {},
   "source": [
    "## The joining mantra: Filter/aggregate THEN join\n",
    "\n",
    "By filtering and/or aggregating before joining, you will\n",
    "\n",
    "* reduce the amount of work\n",
    "* protect against really large output"
   ]
  },
  {
   "cell_type": "markdown",
   "id": "c7431b36",
   "metadata": {},
   "source": [
    "#### Filter and aggregate to total runs per team per year"
   ]
  },
  {
   "cell_type": "code",
   "execution_count": 23,
   "id": "91c404c6",
   "metadata": {},
   "outputs": [
    {
     "ename": "NameError",
     "evalue": "name 'batting_select' is not defined",
     "output_type": "error",
     "traceback": [
      "\u001b[1;31m---------------------------------------------------------------------------\u001b[0m",
      "\u001b[1;31mNameError\u001b[0m                                 Traceback (most recent call last)",
      "Cell \u001b[1;32mIn[23], line 1\u001b[0m\n\u001b[1;32m----> 1\u001b[0m runs \u001b[38;5;241m=\u001b[39m (\u001b[43mbatting_select\u001b[49m\n\u001b[0;32m      2\u001b[0m         \u001b[38;5;241m.\u001b[39mfilter(pl\u001b[38;5;241m.\u001b[39mcol(\u001b[38;5;124m'\u001b[39m\u001b[38;5;124myearID\u001b[39m\u001b[38;5;124m'\u001b[39m) \u001b[38;5;241m==\u001b[39m \u001b[38;5;241m2009\u001b[39m)\n\u001b[0;32m      3\u001b[0m         \u001b[38;5;241m.\u001b[39mgroupby(pl\u001b[38;5;241m.\u001b[39mcol(\u001b[38;5;124m'\u001b[39m\u001b[38;5;124mteamID\u001b[39m\u001b[38;5;124m'\u001b[39m))\n\u001b[0;32m      4\u001b[0m         \u001b[38;5;241m.\u001b[39magg(pl\u001b[38;5;241m.\u001b[39mcol(\u001b[38;5;124m'\u001b[39m\u001b[38;5;124mR\u001b[39m\u001b[38;5;124m'\u001b[39m)\u001b[38;5;241m.\u001b[39msum()\u001b[38;5;241m.\u001b[39malias(\u001b[38;5;124m'\u001b[39m\u001b[38;5;124mtotal_runs\u001b[39m\u001b[38;5;124m'\u001b[39m)))\n\u001b[0;32m      6\u001b[0m runs\u001b[38;5;241m.\u001b[39mhead()\n",
      "\u001b[1;31mNameError\u001b[0m: name 'batting_select' is not defined"
     ]
    }
   ],
   "source": [
    "runs = (batting_select\n",
    "        .filter(pl.col('yearID') == 2009)\n",
    "        .groupby(pl.col('teamID'))\n",
    "        .agg(pl.col('R').sum().alias('total_runs')))\n",
    "\n",
    "runs.head()"
   ]
  },
  {
   "cell_type": "markdown",
   "id": "3f67b03f",
   "metadata": {},
   "source": [
    "#### Filter down to 2009 teams"
   ]
  },
  {
   "cell_type": "code",
   "execution_count": 24,
   "id": "2e183a75",
   "metadata": {},
   "outputs": [
    {
     "ename": "NameError",
     "evalue": "name 'teams_select' is not defined",
     "output_type": "error",
     "traceback": [
      "\u001b[1;31m---------------------------------------------------------------------------\u001b[0m",
      "\u001b[1;31mNameError\u001b[0m                                 Traceback (most recent call last)",
      "Cell \u001b[1;32mIn[24], line 1\u001b[0m\n\u001b[1;32m----> 1\u001b[0m teams09 \u001b[38;5;241m=\u001b[39m (\u001b[43mteams_select\u001b[49m\n\u001b[0;32m      2\u001b[0m            \u001b[38;5;241m.\u001b[39mfilter(pl\u001b[38;5;241m.\u001b[39mcol(\u001b[38;5;124m'\u001b[39m\u001b[38;5;124myearID\u001b[39m\u001b[38;5;124m'\u001b[39m) \u001b[38;5;241m==\u001b[39m \u001b[38;5;241m2009\u001b[39m)\n\u001b[0;32m      3\u001b[0m           )\n\u001b[0;32m      4\u001b[0m teams09\u001b[38;5;241m.\u001b[39mhead()\n",
      "\u001b[1;31mNameError\u001b[0m: name 'teams_select' is not defined"
     ]
    }
   ],
   "source": [
    "teams09 = (teams_select\n",
    "           .filter(pl.col('yearID') == 2009)\n",
    "          )\n",
    "teams09.head()"
   ]
  },
  {
   "cell_type": "code",
   "execution_count": 25,
   "id": "46fa7a66",
   "metadata": {},
   "outputs": [
    {
     "ename": "NameError",
     "evalue": "name 'runs' is not defined",
     "output_type": "error",
     "traceback": [
      "\u001b[1;31m---------------------------------------------------------------------------\u001b[0m",
      "\u001b[1;31mNameError\u001b[0m                                 Traceback (most recent call last)",
      "Cell \u001b[1;32mIn[25], line 1\u001b[0m\n\u001b[1;32m----> 1\u001b[0m \u001b[38;5;28mlen\u001b[39m(\u001b[43mruns\u001b[49m)\u001b[38;5;241m*\u001b[39m\u001b[38;5;28mlen\u001b[39m(teams09)\n",
      "\u001b[1;31mNameError\u001b[0m: name 'runs' is not defined"
     ]
    }
   ],
   "source": [
    "len(runs)*len(teams09)"
   ]
  },
  {
   "cell_type": "code",
   "execution_count": 26,
   "id": "0e51e84c",
   "metadata": {},
   "outputs": [
    {
     "ename": "NameError",
     "evalue": "name 'runs' is not defined",
     "output_type": "error",
     "traceback": [
      "\u001b[1;31m---------------------------------------------------------------------------\u001b[0m",
      "\u001b[1;31mNameError\u001b[0m                                 Traceback (most recent call last)",
      "Cell \u001b[1;32mIn[26], line 1\u001b[0m\n\u001b[1;32m----> 1\u001b[0m runs_per_team09_new \u001b[38;5;241m=\u001b[39m (\u001b[43mruns\u001b[49m \n\u001b[0;32m      2\u001b[0m                        \u001b[38;5;241m.\u001b[39mjoin(teams09, on\u001b[38;5;241m=\u001b[39m\u001b[38;5;124m'\u001b[39m\u001b[38;5;124mteamID\u001b[39m\u001b[38;5;124m'\u001b[39m, how\u001b[38;5;241m=\u001b[39m\u001b[38;5;124m'\u001b[39m\u001b[38;5;124mleft\u001b[39m\u001b[38;5;124m'\u001b[39m)\n\u001b[0;32m      3\u001b[0m                        \u001b[38;5;241m.\u001b[39mdrop(\u001b[38;5;124m'\u001b[39m\u001b[38;5;124mteamID\u001b[39m\u001b[38;5;124m'\u001b[39m)\n\u001b[0;32m      4\u001b[0m                       )\n\u001b[0;32m      5\u001b[0m runs_per_team09_new\u001b[38;5;241m.\u001b[39mhead()\n",
      "\u001b[1;31mNameError\u001b[0m: name 'runs' is not defined"
     ]
    }
   ],
   "source": [
    "runs_per_team09_new = (runs \n",
    "                       .join(teams09, on='teamID', how='left')\n",
    "                       .drop('teamID')\n",
    "                      )\n",
    "runs_per_team09_new.head()"
   ]
  },
  {
   "cell_type": "code",
   "execution_count": 27,
   "id": "40b92f96",
   "metadata": {},
   "outputs": [
    {
     "ename": "NameError",
     "evalue": "name 'runs_per_team09_new' is not defined",
     "output_type": "error",
     "traceback": [
      "\u001b[1;31m---------------------------------------------------------------------------\u001b[0m",
      "\u001b[1;31mNameError\u001b[0m                                 Traceback (most recent call last)",
      "Cell \u001b[1;32mIn[27], line 1\u001b[0m\n\u001b[1;32m----> 1\u001b[0m \u001b[43mruns_per_team09_new\u001b[49m\u001b[38;5;241m.\u001b[39mshape\n",
      "\u001b[1;31mNameError\u001b[0m: name 'runs_per_team09_new' is not defined"
     ]
    }
   ],
   "source": [
    "runs_per_team09_new.shape"
   ]
  },
  {
   "cell_type": "markdown",
   "id": "9684ce4d",
   "metadata": {},
   "source": [
    "## Don't worry about speed until it matters!\n",
    "\n",
    "* I don't emphasize speed most of the time.\n",
    "* In this case, either approach was nearly instant.\n",
    "* Still ... `join`s are *so dangerous* that I make an exception here!"
   ]
  },
  {
   "cell_type": "markdown",
   "id": "7de88060",
   "metadata": {
    "slideshow": {
     "slide_type": "slide"
    }
   },
   "source": [
    "## <font color=\"red\"> Exercise 7.3.1 </font>\n",
    "\n",
    "Determine all the players that have hit more than 30 home runs in a season.  The final table should include the players proper name, as well as the team name.  \n",
    "\n",
    "**Hint:** You will need join the `Batting.csv`, `People.csv`, and `Teams.csv` files.  To get credit for this exercise, use the join methods presented above."
   ]
  },
  {
   "cell_type": "code",
   "execution_count": 46,
   "id": "9a022558",
   "metadata": {
    "slideshow": {
     "slide_type": "fragment"
    }
   },
   "outputs": [
    {
     "data": {
      "text/html": [
       "<div><style>\n",
       ".dataframe > thead > tr,\n",
       ".dataframe > tbody > tr {\n",
       "  text-align: right;\n",
       "  white-space: pre-wrap;\n",
       "}\n",
       "</style>\n",
       "<small>shape: (107_429, 22)</small><table border=\"1\" class=\"dataframe\"><thead><tr><th>playerID</th><th>yearID</th><th>stint</th><th>teamID</th><th>lgID</th><th>G</th><th>AB</th><th>R</th><th>H</th><th>2B</th><th>3B</th><th>HR</th><th>RBI</th><th>SB</th><th>CS</th><th>BB</th><th>SO</th><th>IBB</th><th>HBP</th><th>SH</th><th>SF</th><th>GIDP</th></tr><tr><td>str</td><td>i64</td><td>i64</td><td>str</td><td>str</td><td>i64</td><td>i64</td><td>i64</td><td>i64</td><td>i64</td><td>i64</td><td>i64</td><td>i64</td><td>i64</td><td>i64</td><td>i64</td><td>i64</td><td>str</td><td>str</td><td>str</td><td>str</td><td>i64</td></tr></thead><tbody><tr><td>&quot;abercda01&quot;</td><td>1871</td><td>1</td><td>&quot;TRO&quot;</td><td>&quot;NA&quot;</td><td>1</td><td>4</td><td>0</td><td>0</td><td>0</td><td>0</td><td>0</td><td>0</td><td>0</td><td>0</td><td>0</td><td>0</td><td>null</td><td>null</td><td>null</td><td>null</td><td>0</td></tr><tr><td>&quot;addybo01&quot;</td><td>1871</td><td>1</td><td>&quot;RC1&quot;</td><td>&quot;NA&quot;</td><td>25</td><td>118</td><td>30</td><td>32</td><td>6</td><td>0</td><td>0</td><td>13</td><td>8</td><td>1</td><td>4</td><td>0</td><td>null</td><td>null</td><td>null</td><td>null</td><td>0</td></tr><tr><td>&quot;allisar01&quot;</td><td>1871</td><td>1</td><td>&quot;CL1&quot;</td><td>&quot;NA&quot;</td><td>29</td><td>137</td><td>28</td><td>40</td><td>4</td><td>5</td><td>0</td><td>19</td><td>3</td><td>1</td><td>2</td><td>5</td><td>null</td><td>null</td><td>null</td><td>null</td><td>1</td></tr><tr><td>&quot;allisdo01&quot;</td><td>1871</td><td>1</td><td>&quot;WS3&quot;</td><td>&quot;NA&quot;</td><td>27</td><td>133</td><td>28</td><td>44</td><td>10</td><td>2</td><td>2</td><td>27</td><td>1</td><td>1</td><td>0</td><td>2</td><td>null</td><td>null</td><td>null</td><td>null</td><td>0</td></tr><tr><td>&quot;ansonca01&quot;</td><td>1871</td><td>1</td><td>&quot;RC1&quot;</td><td>&quot;NA&quot;</td><td>25</td><td>120</td><td>29</td><td>39</td><td>11</td><td>3</td><td>0</td><td>16</td><td>6</td><td>2</td><td>2</td><td>1</td><td>null</td><td>null</td><td>null</td><td>null</td><td>0</td></tr><tr><td>&hellip;</td><td>&hellip;</td><td>&hellip;</td><td>&hellip;</td><td>&hellip;</td><td>&hellip;</td><td>&hellip;</td><td>&hellip;</td><td>&hellip;</td><td>&hellip;</td><td>&hellip;</td><td>&hellip;</td><td>&hellip;</td><td>&hellip;</td><td>&hellip;</td><td>&hellip;</td><td>&hellip;</td><td>&hellip;</td><td>&hellip;</td><td>&hellip;</td><td>&hellip;</td><td>&hellip;</td></tr><tr><td>&quot;zimmejo02&quot;</td><td>2019</td><td>1</td><td>&quot;DET&quot;</td><td>&quot;AL&quot;</td><td>23</td><td>2</td><td>0</td><td>0</td><td>0</td><td>0</td><td>0</td><td>0</td><td>0</td><td>0</td><td>0</td><td>2</td><td>&quot;0&quot;</td><td>&quot;0&quot;</td><td>&quot;0&quot;</td><td>&quot;0&quot;</td><td>0</td></tr><tr><td>&quot;zimmeky01&quot;</td><td>2019</td><td>1</td><td>&quot;KCA&quot;</td><td>&quot;AL&quot;</td><td>15</td><td>0</td><td>0</td><td>0</td><td>0</td><td>0</td><td>0</td><td>0</td><td>0</td><td>0</td><td>0</td><td>0</td><td>&quot;0&quot;</td><td>&quot;0&quot;</td><td>&quot;0&quot;</td><td>&quot;0&quot;</td><td>0</td></tr><tr><td>&quot;zimmery01&quot;</td><td>2019</td><td>1</td><td>&quot;WAS&quot;</td><td>&quot;NL&quot;</td><td>52</td><td>171</td><td>20</td><td>44</td><td>9</td><td>0</td><td>6</td><td>27</td><td>0</td><td>0</td><td>17</td><td>39</td><td>&quot;0&quot;</td><td>&quot;0&quot;</td><td>&quot;0&quot;</td><td>&quot;2&quot;</td><td>4</td></tr><tr><td>&quot;zobribe01&quot;</td><td>2019</td><td>1</td><td>&quot;CHN&quot;</td><td>&quot;NL&quot;</td><td>47</td><td>150</td><td>24</td><td>39</td><td>5</td><td>0</td><td>1</td><td>17</td><td>0</td><td>0</td><td>23</td><td>24</td><td>&quot;0&quot;</td><td>&quot;1&quot;</td><td>&quot;0&quot;</td><td>&quot;2&quot;</td><td>6</td></tr><tr><td>&quot;zuninmi01&quot;</td><td>2019</td><td>1</td><td>&quot;TBA&quot;</td><td>&quot;AL&quot;</td><td>90</td><td>266</td><td>30</td><td>44</td><td>10</td><td>1</td><td>9</td><td>32</td><td>0</td><td>0</td><td>20</td><td>98</td><td>&quot;0&quot;</td><td>&quot;3&quot;</td><td>&quot;0&quot;</td><td>&quot;0&quot;</td><td>4</td></tr></tbody></table></div>"
      ],
      "text/plain": [
       "shape: (107_429, 22)\n",
       "┌───────────┬────────┬───────┬────────┬───┬──────┬──────┬──────┬──────┐\n",
       "│ playerID  ┆ yearID ┆ stint ┆ teamID ┆ … ┆ HBP  ┆ SH   ┆ SF   ┆ GIDP │\n",
       "│ ---       ┆ ---    ┆ ---   ┆ ---    ┆   ┆ ---  ┆ ---  ┆ ---  ┆ ---  │\n",
       "│ str       ┆ i64    ┆ i64   ┆ str    ┆   ┆ str  ┆ str  ┆ str  ┆ i64  │\n",
       "╞═══════════╪════════╪═══════╪════════╪═══╪══════╪══════╪══════╪══════╡\n",
       "│ abercda01 ┆ 1871   ┆ 1     ┆ TRO    ┆ … ┆ null ┆ null ┆ null ┆ 0    │\n",
       "│ addybo01  ┆ 1871   ┆ 1     ┆ RC1    ┆ … ┆ null ┆ null ┆ null ┆ 0    │\n",
       "│ allisar01 ┆ 1871   ┆ 1     ┆ CL1    ┆ … ┆ null ┆ null ┆ null ┆ 1    │\n",
       "│ allisdo01 ┆ 1871   ┆ 1     ┆ WS3    ┆ … ┆ null ┆ null ┆ null ┆ 0    │\n",
       "│ ansonca01 ┆ 1871   ┆ 1     ┆ RC1    ┆ … ┆ null ┆ null ┆ null ┆ 0    │\n",
       "│ …         ┆ …      ┆ …     ┆ …      ┆ … ┆ …    ┆ …    ┆ …    ┆ …    │\n",
       "│ zimmejo02 ┆ 2019   ┆ 1     ┆ DET    ┆ … ┆ 0    ┆ 0    ┆ 0    ┆ 0    │\n",
       "│ zimmeky01 ┆ 2019   ┆ 1     ┆ KCA    ┆ … ┆ 0    ┆ 0    ┆ 0    ┆ 0    │\n",
       "│ zimmery01 ┆ 2019   ┆ 1     ┆ WAS    ┆ … ┆ 0    ┆ 0    ┆ 2    ┆ 4    │\n",
       "│ zobribe01 ┆ 2019   ┆ 1     ┆ CHN    ┆ … ┆ 1    ┆ 0    ┆ 2    ┆ 6    │\n",
       "│ zuninmi01 ┆ 2019   ┆ 1     ┆ TBA    ┆ … ┆ 3    ┆ 0    ┆ 0    ┆ 4    │\n",
       "└───────────┴────────┴───────┴────────┴───┴──────┴──────┴──────┴──────┘"
      ]
     },
     "execution_count": 46,
     "metadata": {},
     "output_type": "execute_result"
    }
   ],
   "source": [
    "batting = pl.read_csv('./sample_data/baseball/core/Batting.csv')\n",
    "batting"
   ]
  },
  {
   "cell_type": "code",
   "execution_count": 71,
   "id": "d8f895a2-e058-4beb-a3a2-07ef0713ff9c",
   "metadata": {},
   "outputs": [
    {
     "data": {
      "text/html": [
       "<div><style>\n",
       ".dataframe > thead > tr,\n",
       ".dataframe > tbody > tr {\n",
       "  text-align: right;\n",
       "  white-space: pre-wrap;\n",
       "}\n",
       "</style>\n",
       "<small>shape: (1_230, 4)</small><table border=\"1\" class=\"dataframe\"><thead><tr><th>playerID</th><th>yearID</th><th>teamID</th><th>HR</th></tr><tr><td>str</td><td>i64</td><td>str</td><td>i64</td></tr></thead><tbody><tr><td>&quot;ruthba01&quot;</td><td>1920</td><td>&quot;NYA&quot;</td><td>54</td></tr><tr><td>&quot;ruthba01&quot;</td><td>1921</td><td>&quot;NYA&quot;</td><td>59</td></tr><tr><td>&quot;hornsro01&quot;</td><td>1922</td><td>&quot;SLN&quot;</td><td>42</td></tr><tr><td>&quot;ruthba01&quot;</td><td>1922</td><td>&quot;NYA&quot;</td><td>35</td></tr><tr><td>&quot;walketi01&quot;</td><td>1922</td><td>&quot;PHA&quot;</td><td>37</td></tr><tr><td>&hellip;</td><td>&hellip;</td><td>&hellip;</td><td>&hellip;</td></tr><tr><td>&quot;storytr01&quot;</td><td>2019</td><td>&quot;COL&quot;</td><td>35</td></tr><tr><td>&quot;suareeu01&quot;</td><td>2019</td><td>&quot;CIN&quot;</td><td>49</td></tr><tr><td>&quot;torregl01&quot;</td><td>2019</td><td>&quot;NYA&quot;</td><td>38</td></tr><tr><td>&quot;troutmi01&quot;</td><td>2019</td><td>&quot;LAA&quot;</td><td>45</td></tr><tr><td>&quot;yelicch01&quot;</td><td>2019</td><td>&quot;MIL&quot;</td><td>44</td></tr></tbody></table></div>"
      ],
      "text/plain": [
       "shape: (1_230, 4)\n",
       "┌───────────┬────────┬────────┬─────┐\n",
       "│ playerID  ┆ yearID ┆ teamID ┆ HR  │\n",
       "│ ---       ┆ ---    ┆ ---    ┆ --- │\n",
       "│ str       ┆ i64    ┆ str    ┆ i64 │\n",
       "╞═══════════╪════════╪════════╪═════╡\n",
       "│ ruthba01  ┆ 1920   ┆ NYA    ┆ 54  │\n",
       "│ ruthba01  ┆ 1921   ┆ NYA    ┆ 59  │\n",
       "│ hornsro01 ┆ 1922   ┆ SLN    ┆ 42  │\n",
       "│ ruthba01  ┆ 1922   ┆ NYA    ┆ 35  │\n",
       "│ walketi01 ┆ 1922   ┆ PHA    ┆ 37  │\n",
       "│ …         ┆ …      ┆ …      ┆ …   │\n",
       "│ storytr01 ┆ 2019   ┆ COL    ┆ 35  │\n",
       "│ suareeu01 ┆ 2019   ┆ CIN    ┆ 49  │\n",
       "│ torregl01 ┆ 2019   ┆ NYA    ┆ 38  │\n",
       "│ troutmi01 ┆ 2019   ┆ LAA    ┆ 45  │\n",
       "│ yelicch01 ┆ 2019   ┆ MIL    ┆ 44  │\n",
       "└───────────┴────────┴────────┴─────┘"
      ]
     },
     "execution_count": 71,
     "metadata": {},
     "output_type": "execute_result"
    }
   ],
   "source": [
    "batting_prepared = (batting\n",
    "                        .select(pl.col('playerID'), pl.col('yearID'), pl.col('teamID'), pl.col('HR'))\n",
    "                        .filter(pl.col('HR')>30)\n",
    "                   )\n",
    "batting_prepared"
   ]
  },
  {
   "cell_type": "code",
   "execution_count": 32,
   "id": "4bc27fc5-e152-435b-8eb8-241381e4bb1e",
   "metadata": {},
   "outputs": [
    {
     "data": {
      "text/html": [
       "<div><style>\n",
       ".dataframe > thead > tr,\n",
       ".dataframe > tbody > tr {\n",
       "  text-align: right;\n",
       "  white-space: pre-wrap;\n",
       "}\n",
       "</style>\n",
       "<small>shape: (5, 24)</small><table border=\"1\" class=\"dataframe\"><thead><tr><th>playerID</th><th>birthYear</th><th>birthMonth</th><th>birthDay</th><th>birthCountry</th><th>birthState</th><th>birthCity</th><th>deathYear</th><th>deathMonth</th><th>deathDay</th><th>deathCountry</th><th>deathState</th><th>deathCity</th><th>nameFirst</th><th>nameLast</th><th>nameGiven</th><th>weight</th><th>height</th><th>bats</th><th>throws</th><th>debut</th><th>finalGame</th><th>retroID</th><th>bbrefID</th></tr><tr><td>str</td><td>i64</td><td>i64</td><td>i64</td><td>str</td><td>str</td><td>str</td><td>i64</td><td>i64</td><td>i64</td><td>str</td><td>str</td><td>str</td><td>str</td><td>str</td><td>str</td><td>i64</td><td>i64</td><td>str</td><td>str</td><td>str</td><td>str</td><td>str</td><td>str</td></tr></thead><tbody><tr><td>&quot;aardsda01&quot;</td><td>1981</td><td>12</td><td>27</td><td>&quot;USA&quot;</td><td>&quot;CO&quot;</td><td>&quot;Denver&quot;</td><td>null</td><td>null</td><td>null</td><td>null</td><td>null</td><td>null</td><td>&quot;David&quot;</td><td>&quot;Aardsma&quot;</td><td>&quot;David Allan&quot;</td><td>215</td><td>75</td><td>&quot;R&quot;</td><td>&quot;R&quot;</td><td>&quot;2004-04-06&quot;</td><td>&quot;2015-08-23&quot;</td><td>&quot;aardd001&quot;</td><td>&quot;aardsda01&quot;</td></tr><tr><td>&quot;aaronha01&quot;</td><td>1934</td><td>2</td><td>5</td><td>&quot;USA&quot;</td><td>&quot;AL&quot;</td><td>&quot;Mobile&quot;</td><td>null</td><td>null</td><td>null</td><td>null</td><td>null</td><td>null</td><td>&quot;Hank&quot;</td><td>&quot;Aaron&quot;</td><td>&quot;Henry Louis&quot;</td><td>180</td><td>72</td><td>&quot;R&quot;</td><td>&quot;R&quot;</td><td>&quot;1954-04-13&quot;</td><td>&quot;1976-10-03&quot;</td><td>&quot;aaroh101&quot;</td><td>&quot;aaronha01&quot;</td></tr><tr><td>&quot;aaronto01&quot;</td><td>1939</td><td>8</td><td>5</td><td>&quot;USA&quot;</td><td>&quot;AL&quot;</td><td>&quot;Mobile&quot;</td><td>1984</td><td>8</td><td>16</td><td>&quot;USA&quot;</td><td>&quot;GA&quot;</td><td>&quot;Atlanta&quot;</td><td>&quot;Tommie&quot;</td><td>&quot;Aaron&quot;</td><td>&quot;Tommie Lee&quot;</td><td>190</td><td>75</td><td>&quot;R&quot;</td><td>&quot;R&quot;</td><td>&quot;1962-04-10&quot;</td><td>&quot;1971-09-26&quot;</td><td>&quot;aarot101&quot;</td><td>&quot;aaronto01&quot;</td></tr><tr><td>&quot;aasedo01&quot;</td><td>1954</td><td>9</td><td>8</td><td>&quot;USA&quot;</td><td>&quot;CA&quot;</td><td>&quot;Orange&quot;</td><td>null</td><td>null</td><td>null</td><td>null</td><td>null</td><td>null</td><td>&quot;Don&quot;</td><td>&quot;Aase&quot;</td><td>&quot;Donald William&quot;</td><td>190</td><td>75</td><td>&quot;R&quot;</td><td>&quot;R&quot;</td><td>&quot;1977-07-26&quot;</td><td>&quot;1990-10-03&quot;</td><td>&quot;aased001&quot;</td><td>&quot;aasedo01&quot;</td></tr><tr><td>&quot;abadan01&quot;</td><td>1972</td><td>8</td><td>25</td><td>&quot;USA&quot;</td><td>&quot;FL&quot;</td><td>&quot;Palm Beach&quot;</td><td>null</td><td>null</td><td>null</td><td>null</td><td>null</td><td>null</td><td>&quot;Andy&quot;</td><td>&quot;Abad&quot;</td><td>&quot;Fausto Andres&quot;</td><td>184</td><td>73</td><td>&quot;L&quot;</td><td>&quot;L&quot;</td><td>&quot;2001-09-10&quot;</td><td>&quot;2006-04-13&quot;</td><td>&quot;abada001&quot;</td><td>&quot;abadan01&quot;</td></tr></tbody></table></div>"
      ],
      "text/plain": [
       "shape: (5, 24)\n",
       "┌───────────┬───────────┬────────────┬──────────┬───┬───────────┬───────────┬──────────┬───────────┐\n",
       "│ playerID  ┆ birthYear ┆ birthMonth ┆ birthDay ┆ … ┆ debut     ┆ finalGame ┆ retroID  ┆ bbrefID   │\n",
       "│ ---       ┆ ---       ┆ ---        ┆ ---      ┆   ┆ ---       ┆ ---       ┆ ---      ┆ ---       │\n",
       "│ str       ┆ i64       ┆ i64        ┆ i64      ┆   ┆ str       ┆ str       ┆ str      ┆ str       │\n",
       "╞═══════════╪═══════════╪════════════╪══════════╪═══╪═══════════╪═══════════╪══════════╪═══════════╡\n",
       "│ aardsda01 ┆ 1981      ┆ 12         ┆ 27       ┆ … ┆ 2004-04-0 ┆ 2015-08-2 ┆ aardd001 ┆ aardsda01 │\n",
       "│           ┆           ┆            ┆          ┆   ┆ 6         ┆ 3         ┆          ┆           │\n",
       "│ aaronha01 ┆ 1934      ┆ 2          ┆ 5        ┆ … ┆ 1954-04-1 ┆ 1976-10-0 ┆ aaroh101 ┆ aaronha01 │\n",
       "│           ┆           ┆            ┆          ┆   ┆ 3         ┆ 3         ┆          ┆           │\n",
       "│ aaronto01 ┆ 1939      ┆ 8          ┆ 5        ┆ … ┆ 1962-04-1 ┆ 1971-09-2 ┆ aarot101 ┆ aaronto01 │\n",
       "│           ┆           ┆            ┆          ┆   ┆ 0         ┆ 6         ┆          ┆           │\n",
       "│ aasedo01  ┆ 1954      ┆ 9          ┆ 8        ┆ … ┆ 1977-07-2 ┆ 1990-10-0 ┆ aased001 ┆ aasedo01  │\n",
       "│           ┆           ┆            ┆          ┆   ┆ 6         ┆ 3         ┆          ┆           │\n",
       "│ abadan01  ┆ 1972      ┆ 8          ┆ 25       ┆ … ┆ 2001-09-1 ┆ 2006-04-1 ┆ abada001 ┆ abadan01  │\n",
       "│           ┆           ┆            ┆          ┆   ┆ 0         ┆ 3         ┆          ┆           │\n",
       "└───────────┴───────────┴────────────┴──────────┴───┴───────────┴───────────┴──────────┴───────────┘"
      ]
     },
     "execution_count": 32,
     "metadata": {},
     "output_type": "execute_result"
    }
   ],
   "source": [
    "people = pl.read_csv('./sample_data/baseball/core/People.csv')\n",
    "people.head()"
   ]
  },
  {
   "cell_type": "code",
   "execution_count": 82,
   "id": "237d1420-9101-491b-87be-9a7c67f22117",
   "metadata": {},
   "outputs": [
    {
     "data": {
      "text/html": [
       "<div><style>\n",
       ".dataframe > thead > tr,\n",
       ".dataframe > tbody > tr {\n",
       "  text-align: right;\n",
       "  white-space: pre-wrap;\n",
       "}\n",
       "</style>\n",
       "<small>shape: (5, 2)</small><table border=\"1\" class=\"dataframe\"><thead><tr><th>playerID</th><th>playerName</th></tr><tr><td>str</td><td>str</td></tr></thead><tbody><tr><td>&quot;aardsda01&quot;</td><td>&quot;David Aardsma&quot;</td></tr><tr><td>&quot;aaronha01&quot;</td><td>&quot;Hank Aaron&quot;</td></tr><tr><td>&quot;aaronto01&quot;</td><td>&quot;Tommie Aaron&quot;</td></tr><tr><td>&quot;aasedo01&quot;</td><td>&quot;Don Aase&quot;</td></tr><tr><td>&quot;abadan01&quot;</td><td>&quot;Andy Abad&quot;</td></tr></tbody></table></div>"
      ],
      "text/plain": [
       "shape: (5, 2)\n",
       "┌───────────┬───────────────┐\n",
       "│ playerID  ┆ playerName    │\n",
       "│ ---       ┆ ---           │\n",
       "│ str       ┆ str           │\n",
       "╞═══════════╪═══════════════╡\n",
       "│ aardsda01 ┆ David Aardsma │\n",
       "│ aaronha01 ┆ Hank Aaron    │\n",
       "│ aaronto01 ┆ Tommie Aaron  │\n",
       "│ aasedo01  ┆ Don Aase      │\n",
       "│ abadan01  ┆ Andy Abad     │\n",
       "└───────────┴───────────────┘"
      ]
     },
     "execution_count": 82,
     "metadata": {},
     "output_type": "execute_result"
    }
   ],
   "source": [
    "people_prepared = (people\n",
    "                       .with_columns(pl.concat_str([\"nameFirst\", \"nameLast\"], separator=\" \").alias(\"playerName\"))\n",
    "                       .select(pl.col('playerID'), pl.col('playerName'))\n",
    "                  )\n",
    "people_prepared.head()"
   ]
  },
  {
   "cell_type": "code",
   "execution_count": 83,
   "id": "808944d4-378c-443e-84c0-dff09b836941",
   "metadata": {},
   "outputs": [
    {
     "data": {
      "text/html": [
       "<div><style>\n",
       ".dataframe > thead > tr,\n",
       ".dataframe > tbody > tr {\n",
       "  text-align: right;\n",
       "  white-space: pre-wrap;\n",
       "}\n",
       "</style>\n",
       "<small>shape: (5, 48)</small><table border=\"1\" class=\"dataframe\"><thead><tr><th>yearID</th><th>lgID</th><th>teamID</th><th>franchID</th><th>divID</th><th>Rank</th><th>G</th><th>Ghome</th><th>W</th><th>L</th><th>DivWin</th><th>WCWin</th><th>LgWin</th><th>WSWin</th><th>R</th><th>AB</th><th>H</th><th>2B</th><th>3B</th><th>HR</th><th>BB</th><th>SO</th><th>SB</th><th>CS</th><th>HBP</th><th>SF</th><th>RA</th><th>ER</th><th>ERA</th><th>CG</th><th>SHO</th><th>SV</th><th>IPouts</th><th>HA</th><th>HRA</th><th>BBA</th><th>SOA</th><th>E</th><th>DP</th><th>FP</th><th>name</th><th>park</th><th>attendance</th><th>BPF</th><th>PPF</th><th>teamIDBR</th><th>teamIDlahman45</th><th>teamIDretro</th></tr><tr><td>i64</td><td>str</td><td>str</td><td>str</td><td>str</td><td>i64</td><td>i64</td><td>str</td><td>i64</td><td>i64</td><td>str</td><td>str</td><td>str</td><td>str</td><td>i64</td><td>i64</td><td>i64</td><td>i64</td><td>i64</td><td>i64</td><td>i64</td><td>i64</td><td>i64</td><td>i64</td><td>str</td><td>str</td><td>i64</td><td>i64</td><td>f64</td><td>i64</td><td>i64</td><td>i64</td><td>i64</td><td>i64</td><td>i64</td><td>i64</td><td>i64</td><td>i64</td><td>i64</td><td>f64</td><td>str</td><td>str</td><td>str</td><td>i64</td><td>i64</td><td>str</td><td>str</td><td>str</td></tr></thead><tbody><tr><td>1871</td><td>&quot;NA&quot;</td><td>&quot;BS1&quot;</td><td>&quot;BNA&quot;</td><td>null</td><td>3</td><td>31</td><td>null</td><td>20</td><td>10</td><td>null</td><td>null</td><td>&quot;N&quot;</td><td>null</td><td>401</td><td>1372</td><td>426</td><td>70</td><td>37</td><td>3</td><td>60</td><td>19</td><td>73</td><td>16</td><td>null</td><td>null</td><td>303</td><td>109</td><td>3.55</td><td>22</td><td>1</td><td>3</td><td>828</td><td>367</td><td>2</td><td>42</td><td>23</td><td>243</td><td>24</td><td>0.834</td><td>&quot;Boston Red Stockings&quot;</td><td>&quot;South End Grounds I&quot;</td><td>null</td><td>103</td><td>98</td><td>&quot;BOS&quot;</td><td>&quot;BS1&quot;</td><td>&quot;BS1&quot;</td></tr><tr><td>1871</td><td>&quot;NA&quot;</td><td>&quot;CH1&quot;</td><td>&quot;CNA&quot;</td><td>null</td><td>2</td><td>28</td><td>null</td><td>19</td><td>9</td><td>null</td><td>null</td><td>&quot;N&quot;</td><td>null</td><td>302</td><td>1196</td><td>323</td><td>52</td><td>21</td><td>10</td><td>60</td><td>22</td><td>69</td><td>21</td><td>null</td><td>null</td><td>241</td><td>77</td><td>2.76</td><td>25</td><td>0</td><td>1</td><td>753</td><td>308</td><td>6</td><td>28</td><td>22</td><td>229</td><td>16</td><td>0.829</td><td>&quot;Chicago White Stockings&quot;</td><td>&quot;Union Base-Ball Grounds&quot;</td><td>null</td><td>104</td><td>102</td><td>&quot;CHI&quot;</td><td>&quot;CH1&quot;</td><td>&quot;CH1&quot;</td></tr><tr><td>1871</td><td>&quot;NA&quot;</td><td>&quot;CL1&quot;</td><td>&quot;CFC&quot;</td><td>null</td><td>8</td><td>29</td><td>null</td><td>10</td><td>19</td><td>null</td><td>null</td><td>&quot;N&quot;</td><td>null</td><td>249</td><td>1186</td><td>328</td><td>35</td><td>40</td><td>7</td><td>26</td><td>25</td><td>18</td><td>8</td><td>null</td><td>null</td><td>341</td><td>116</td><td>4.11</td><td>23</td><td>0</td><td>0</td><td>762</td><td>346</td><td>13</td><td>53</td><td>34</td><td>234</td><td>15</td><td>0.818</td><td>&quot;Cleveland Forest Citys&quot;</td><td>&quot;National Association Grounds&quot;</td><td>null</td><td>96</td><td>100</td><td>&quot;CLE&quot;</td><td>&quot;CL1&quot;</td><td>&quot;CL1&quot;</td></tr><tr><td>1871</td><td>&quot;NA&quot;</td><td>&quot;FW1&quot;</td><td>&quot;KEK&quot;</td><td>null</td><td>7</td><td>19</td><td>null</td><td>7</td><td>12</td><td>null</td><td>null</td><td>&quot;N&quot;</td><td>null</td><td>137</td><td>746</td><td>178</td><td>19</td><td>8</td><td>2</td><td>33</td><td>9</td><td>16</td><td>4</td><td>null</td><td>null</td><td>243</td><td>97</td><td>5.17</td><td>19</td><td>1</td><td>0</td><td>507</td><td>261</td><td>5</td><td>21</td><td>17</td><td>163</td><td>8</td><td>0.803</td><td>&quot;Fort Wayne Kekiongas&quot;</td><td>&quot;Hamilton Field&quot;</td><td>null</td><td>101</td><td>107</td><td>&quot;KEK&quot;</td><td>&quot;FW1&quot;</td><td>&quot;FW1&quot;</td></tr><tr><td>1871</td><td>&quot;NA&quot;</td><td>&quot;NY2&quot;</td><td>&quot;NNA&quot;</td><td>null</td><td>5</td><td>33</td><td>null</td><td>16</td><td>17</td><td>null</td><td>null</td><td>&quot;N&quot;</td><td>null</td><td>302</td><td>1404</td><td>403</td><td>43</td><td>21</td><td>1</td><td>33</td><td>15</td><td>46</td><td>15</td><td>null</td><td>null</td><td>313</td><td>121</td><td>3.72</td><td>32</td><td>1</td><td>0</td><td>879</td><td>373</td><td>7</td><td>42</td><td>22</td><td>235</td><td>14</td><td>0.84</td><td>&quot;New York Mutuals&quot;</td><td>&quot;Union Grounds (Brooklyn)&quot;</td><td>null</td><td>90</td><td>88</td><td>&quot;NYU&quot;</td><td>&quot;NY2&quot;</td><td>&quot;NY2&quot;</td></tr></tbody></table></div>"
      ],
      "text/plain": [
       "shape: (5, 48)\n",
       "┌────────┬──────┬────────┬──────────┬───┬─────┬──────────┬────────────────┬─────────────┐\n",
       "│ yearID ┆ lgID ┆ teamID ┆ franchID ┆ … ┆ PPF ┆ teamIDBR ┆ teamIDlahman45 ┆ teamIDretro │\n",
       "│ ---    ┆ ---  ┆ ---    ┆ ---      ┆   ┆ --- ┆ ---      ┆ ---            ┆ ---         │\n",
       "│ i64    ┆ str  ┆ str    ┆ str      ┆   ┆ i64 ┆ str      ┆ str            ┆ str         │\n",
       "╞════════╪══════╪════════╪══════════╪═══╪═════╪══════════╪════════════════╪═════════════╡\n",
       "│ 1871   ┆ NA   ┆ BS1    ┆ BNA      ┆ … ┆ 98  ┆ BOS      ┆ BS1            ┆ BS1         │\n",
       "│ 1871   ┆ NA   ┆ CH1    ┆ CNA      ┆ … ┆ 102 ┆ CHI      ┆ CH1            ┆ CH1         │\n",
       "│ 1871   ┆ NA   ┆ CL1    ┆ CFC      ┆ … ┆ 100 ┆ CLE      ┆ CL1            ┆ CL1         │\n",
       "│ 1871   ┆ NA   ┆ FW1    ┆ KEK      ┆ … ┆ 107 ┆ KEK      ┆ FW1            ┆ FW1         │\n",
       "│ 1871   ┆ NA   ┆ NY2    ┆ NNA      ┆ … ┆ 88  ┆ NYU      ┆ NY2            ┆ NY2         │\n",
       "└────────┴──────┴────────┴──────────┴───┴─────┴──────────┴────────────────┴─────────────┘"
      ]
     },
     "execution_count": 83,
     "metadata": {},
     "output_type": "execute_result"
    }
   ],
   "source": [
    "teams = pl.read_csv('./sample_data/baseball/core/Teams.csv')\n",
    "teams.head()"
   ]
  },
  {
   "cell_type": "code",
   "execution_count": 84,
   "id": "05db6a78-a24d-4e5a-ae47-26487cc2e5db",
   "metadata": {},
   "outputs": [
    {
     "data": {
      "text/html": [
       "<div><style>\n",
       ".dataframe > thead > tr,\n",
       ".dataframe > tbody > tr {\n",
       "  text-align: right;\n",
       "  white-space: pre-wrap;\n",
       "}\n",
       "</style>\n",
       "<small>shape: (5, 3)</small><table border=\"1\" class=\"dataframe\"><thead><tr><th>teamID</th><th>teamName</th><th>yearID</th></tr><tr><td>str</td><td>str</td><td>i64</td></tr></thead><tbody><tr><td>&quot;BS1&quot;</td><td>&quot;Boston Red Stockings&quot;</td><td>1871</td></tr><tr><td>&quot;CH1&quot;</td><td>&quot;Chicago White Stockings&quot;</td><td>1871</td></tr><tr><td>&quot;CL1&quot;</td><td>&quot;Cleveland Forest Citys&quot;</td><td>1871</td></tr><tr><td>&quot;FW1&quot;</td><td>&quot;Fort Wayne Kekiongas&quot;</td><td>1871</td></tr><tr><td>&quot;NY2&quot;</td><td>&quot;New York Mutuals&quot;</td><td>1871</td></tr></tbody></table></div>"
      ],
      "text/plain": [
       "shape: (5, 3)\n",
       "┌────────┬─────────────────────────┬────────┐\n",
       "│ teamID ┆ teamName                ┆ yearID │\n",
       "│ ---    ┆ ---                     ┆ ---    │\n",
       "│ str    ┆ str                     ┆ i64    │\n",
       "╞════════╪═════════════════════════╪════════╡\n",
       "│ BS1    ┆ Boston Red Stockings    ┆ 1871   │\n",
       "│ CH1    ┆ Chicago White Stockings ┆ 1871   │\n",
       "│ CL1    ┆ Cleveland Forest Citys  ┆ 1871   │\n",
       "│ FW1    ┆ Fort Wayne Kekiongas    ┆ 1871   │\n",
       "│ NY2    ┆ New York Mutuals        ┆ 1871   │\n",
       "└────────┴─────────────────────────┴────────┘"
      ]
     },
     "execution_count": 84,
     "metadata": {},
     "output_type": "execute_result"
    }
   ],
   "source": [
    "teams_prepared = (teams.select(pl.col('teamID'), pl.col('name'), pl.col('yearID'))\n",
    "                        .rename({'name': 'teamName'})\n",
    "                 )\n",
    "teams_prepared.head()"
   ]
  },
  {
   "cell_type": "code",
   "execution_count": 87,
   "id": "ab9b2a55-13ed-4103-af72-2000f8360394",
   "metadata": {},
   "outputs": [
    {
     "data": {
      "text/html": [
       "<div><style>\n",
       ".dataframe > thead > tr,\n",
       ".dataframe > tbody > tr {\n",
       "  text-align: right;\n",
       "  white-space: pre-wrap;\n",
       "}\n",
       "</style>\n",
       "<small>shape: (1_230, 4)</small><table border=\"1\" class=\"dataframe\"><thead><tr><th>yearID</th><th>HR</th><th>playerName</th><th>teamName</th></tr><tr><td>i64</td><td>i64</td><td>str</td><td>str</td></tr></thead><tbody><tr><td>1920</td><td>54</td><td>&quot;Babe Ruth&quot;</td><td>&quot;New York Yankees&quot;</td></tr><tr><td>1921</td><td>59</td><td>&quot;Babe Ruth&quot;</td><td>&quot;New York Yankees&quot;</td></tr><tr><td>1922</td><td>42</td><td>&quot;Rogers Hornsby&quot;</td><td>&quot;St. Louis Cardinals&quot;</td></tr><tr><td>1922</td><td>35</td><td>&quot;Babe Ruth&quot;</td><td>&quot;New York Yankees&quot;</td></tr><tr><td>1922</td><td>37</td><td>&quot;Tillie Walker&quot;</td><td>&quot;Philadelphia Athletics&quot;</td></tr><tr><td>&hellip;</td><td>&hellip;</td><td>&hellip;</td><td>&hellip;</td></tr><tr><td>2019</td><td>35</td><td>&quot;Trevor Story&quot;</td><td>&quot;Colorado Rockies&quot;</td></tr><tr><td>2019</td><td>49</td><td>&quot;Eugenio Suarez&quot;</td><td>&quot;Cincinnati Reds&quot;</td></tr><tr><td>2019</td><td>38</td><td>&quot;Gleyber Torres&quot;</td><td>&quot;New York Yankees&quot;</td></tr><tr><td>2019</td><td>45</td><td>&quot;Mike Trout&quot;</td><td>&quot;Los Angeles Angels of Anaheim&quot;</td></tr><tr><td>2019</td><td>44</td><td>&quot;Christian Yelich&quot;</td><td>&quot;Milwaukee Brewers&quot;</td></tr></tbody></table></div>"
      ],
      "text/plain": [
       "shape: (1_230, 4)\n",
       "┌────────┬─────┬──────────────────┬───────────────────────────────┐\n",
       "│ yearID ┆ HR  ┆ playerName       ┆ teamName                      │\n",
       "│ ---    ┆ --- ┆ ---              ┆ ---                           │\n",
       "│ i64    ┆ i64 ┆ str              ┆ str                           │\n",
       "╞════════╪═════╪══════════════════╪═══════════════════════════════╡\n",
       "│ 1920   ┆ 54  ┆ Babe Ruth        ┆ New York Yankees              │\n",
       "│ 1921   ┆ 59  ┆ Babe Ruth        ┆ New York Yankees              │\n",
       "│ 1922   ┆ 42  ┆ Rogers Hornsby   ┆ St. Louis Cardinals           │\n",
       "│ 1922   ┆ 35  ┆ Babe Ruth        ┆ New York Yankees              │\n",
       "│ 1922   ┆ 37  ┆ Tillie Walker    ┆ Philadelphia Athletics        │\n",
       "│ …      ┆ …   ┆ …                ┆ …                             │\n",
       "│ 2019   ┆ 35  ┆ Trevor Story     ┆ Colorado Rockies              │\n",
       "│ 2019   ┆ 49  ┆ Eugenio Suarez   ┆ Cincinnati Reds               │\n",
       "│ 2019   ┆ 38  ┆ Gleyber Torres   ┆ New York Yankees              │\n",
       "│ 2019   ┆ 45  ┆ Mike Trout       ┆ Los Angeles Angels of Anaheim │\n",
       "│ 2019   ┆ 44  ┆ Christian Yelich ┆ Milwaukee Brewers             │\n",
       "└────────┴─────┴──────────────────┴───────────────────────────────┘"
      ]
     },
     "execution_count": 87,
     "metadata": {},
     "output_type": "execute_result"
    }
   ],
   "source": [
    "df_joined = (batting_prepared\n",
    "             .join(people_prepared, on=pl.col('playerID'), how='left')\n",
    "             .join(teams_prepared, on=['teamID', 'yearID'], how='left')\n",
    "             .select(pl.col('yearID'), pl.col('HR'), pl.col('playerName'), pl.col('teamName'))\n",
    "            )\n",
    "df_joined"
   ]
  }
 ],
 "metadata": {
  "celltoolbar": "Slideshow",
  "kernelspec": {
   "display_name": "Python 3 (ipykernel)",
   "language": "python",
   "name": "python3"
  },
  "language_info": {
   "codemirror_mode": {
    "name": "ipython",
    "version": 3
   },
   "file_extension": ".py",
   "mimetype": "text/x-python",
   "name": "python",
   "nbconvert_exporter": "python",
   "pygments_lexer": "ipython3",
   "version": "3.12.5"
  },
  "varInspector": {
   "cols": {
    "lenName": 16,
    "lenType": 16,
    "lenVar": 40
   },
   "kernels_config": {
    "python": {
     "delete_cmd_postfix": "",
     "delete_cmd_prefix": "del ",
     "library": "var_list.py",
     "varRefreshCmd": "print(var_dic_list())"
    },
    "r": {
     "delete_cmd_postfix": ") ",
     "delete_cmd_prefix": "rm(",
     "library": "var_list.r",
     "varRefreshCmd": "cat(var_dic_list()) "
    }
   },
   "types_to_exclude": [
    "module",
    "function",
    "builtin_function_or_method",
    "instance",
    "_Feature"
   ],
   "window_display": false
  }
 },
 "nbformat": 4,
 "nbformat_minor": 5
}
